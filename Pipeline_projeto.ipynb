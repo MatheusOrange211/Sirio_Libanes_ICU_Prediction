{
  "nbformat": 4,
  "nbformat_minor": 0,
  "metadata": {
    "colab": {
      "name": "Pipeline_projeto",
      "provenance": [],
      "authorship_tag": "ABX9TyOhbzGjmKUawPw6BVvVoFpB",
      "include_colab_link": true
    },
    "kernelspec": {
      "name": "python3",
      "display_name": "Python 3"
    }
  },
  "cells": [
    {
      "cell_type": "markdown",
      "metadata": {
        "id": "view-in-github",
        "colab_type": "text"
      },
      "source": [
        "<a href=\"https://colab.research.google.com/github/MatheusOrange211/Sirio_Libanes_ICU_Prediction/blob/main/Pipeline_projeto.ipynb\" target=\"_parent\"><img src=\"https://colab.research.google.com/assets/colab-badge.svg\" alt=\"Open In Colab\"/></a>"
      ]
    },
    {
      "cell_type": "markdown",
      "metadata": {
        "id": "moJexAm3sVx5"
      },
      "source": [
        "Este trabalho foi desenvolvido por **Matheus Naranjo Corrêa**."
      ]
    },
    {
      "cell_type": "markdown",
      "metadata": {
        "id": "DRS8aMgXt_Q4"
      },
      "source": [
        "Abaixo, você tem acesso ao pipeline Usando `RandomForestClassifier` e `XGBoost Classifier`. Primeiro, importarei apenas as bilbiotecas e criação de funções usadas e da classe usada para por no Pipeline."
      ]
    },
    {
      "cell_type": "code",
      "metadata": {
        "id": "KZKnzoD1gkhB"
      },
      "source": [
        "import pandas as pd\r\n",
        "import numpy as np\r\n",
        "import time \r\n",
        "from sklearn.ensemble import RandomForestClassifier\r\n",
        "from xgboost import XGBClassifier\r\n",
        "from sklearn.model_selection import train_test_split\r\n",
        "from sklearn import metrics\r\n",
        "from sklearn.model_selection import RepeatedStratifiedKFold\r\n",
        "from sklearn.model_selection import cross_validate\r\n",
        "from sklearn.pipeline import Pipeline\r\n",
        "from sklearn.base import BaseEstimator, TransformerMixin"
      ],
      "execution_count": null,
      "outputs": []
    },
    {
      "cell_type": "code",
      "metadata": {
        "id": "3cOOj_6NtO_D"
      },
      "source": [
        "def preenche_tabela(dados):\r\n",
        "    features_continuas_colunas = dados.iloc[:, 13:-2].columns\r\n",
        "    features_continuas = dados.groupby(\"PATIENT_VISIT_IDENTIFIER\", as_index=False)[features_continuas_colunas]\\\r\n",
        "                          .fillna(method='bfill')\\\r\n",
        "                          .fillna(method='ffill')\r\n",
        "    features_categoricas = dados.iloc[:, :13]\r\n",
        "    saida = dados.iloc[:, -2:]\r\n",
        "    dados_finais = pd.concat([features_categoricas, features_continuas, saida], ignore_index=True,axis=1)\r\n",
        "    dados_finais.columns = dados.columns\r\n",
        "    return dados_finais\r\n",
        "\r\n",
        "def prepare_window(rows):\r\n",
        "    if(np.any(rows[\"ICU\"])):\r\n",
        "        rows.loc[rows[\"WINDOW\"]==\"0-2\", \"ICU\"] = 1\r\n",
        "    return rows.loc[rows[\"WINDOW\"] == \"0-2\"]\r\n",
        "\r\n",
        "\r\n",
        "def remove_corr_var(dados,valor_corte = .95):\r\n",
        "\r\n",
        "  matriz_corr = dados.iloc[:,4:-2].corr().abs()\r\n",
        "  matrix_upper = matriz_corr.where(np.triu(np.ones(matriz_corr.shape),k=1).astype(np.bool))\r\n",
        "  excluir  = [ coluna for coluna in matrix_upper.columns if any(matrix_upper[coluna] > valor_corte)]\r\n",
        "\r\n",
        "  return dados.drop(excluir,axis=1)"
      ],
      "execution_count": null,
      "outputs": []
    },
    {
      "cell_type": "code",
      "metadata": {
        "id": "UVzNPqRbeZS1"
      },
      "source": [
        "class RemoverCorr(BaseEstimator,TransformerMixin):\r\n",
        "    def __init__( self, valor_corte = 0.95):\r\n",
        "        self.valor_corte = valor_corte\r\n",
        "\r\n",
        "    def fit( self, X, y = None ):\r\n",
        "        matrix_corr = X.iloc[:,4:].corr().abs()\r\n",
        "        matrix_upper = matrix_corr.where(np.triu(np.ones(matrix_corr.shape), k=1).astype(np.bool))\r\n",
        "        self.excluir = [coluna for coluna in matrix_upper.columns if any(matrix_upper[coluna] > self.valor_corte)]\r\n",
        "        return self \r\n",
        "        \r\n",
        "    def transform(self, X, y = None):\r\n",
        "        X = X.drop(self.excluir, axis=1)\r\n",
        "        return X\r\n"
      ],
      "execution_count": null,
      "outputs": []
    },
    {
      "cell_type": "code",
      "metadata": {
        "id": "9EUB7EfRhMfE"
      },
      "source": [
        "def roda_modelo_cv_pipeline(modelo, dados, n_splits, n_repeats):\r\n",
        "\r\n",
        "    np.random.seed(1354537)\r\n",
        "    dados = dados.sample(frac=1).reset_index(drop=True)\r\n",
        "    x_columns = dados.columns\r\n",
        "    y = dados[\"ICU\"]\r\n",
        "    x = dados[x_columns].drop([\"ICU\"], axis=1)\r\n",
        "\r\n",
        "    pipeline = Pipeline([('cat_selector', RemoverCorr()),\r\n",
        "                         ('Modelo', modelo)])    \r\n",
        "\r\n",
        "    cv = RepeatedStratifiedKFold(n_splits = n_splits, n_repeats=n_repeats)\r\n",
        "    resultados=cross_validate(pipeline, x, y, cv=cv, scoring='roc_auc', return_train_score=True,n_jobs=-1)\r\n",
        "\r\n",
        "    auc_medio = np.mean(resultados['test_score'])\r\n",
        "    auc_medio_treino = np.mean(resultados['train_score'])\r\n",
        "\r\n",
        "    auc_std = np.std(resultados['test_score'])\r\n",
        "\r\n",
        "    print(f'AUC  {auc_medio}')"
      ],
      "execution_count": null,
      "outputs": []
    },
    {
      "cell_type": "code",
      "metadata": {
        "colab": {
          "base_uri": "https://localhost:8080/"
        },
        "id": "7MFpaiOnhzJd",
        "outputId": "377974af-121b-4f72-8c3f-b8a1c514c543"
      },
      "source": [
        "start_time = time.time()\r\n",
        "dados = pd.read_excel(\"https://github.com/alura-cursos/covid-19-clinical/blob/main/Kaggle_Sirio_Libanes_ICU_Prediction.xlsx?raw=true\")\r\n",
        "np.random.seed(45438)\r\n",
        "\r\n",
        "dados_limpos = preenche_tabela(dados)\r\n",
        "a_remover = dados_limpos.query(\"WINDOW=='0-2' and ICU==1\")['PATIENT_VISIT_IDENTIFIER'].values\r\n",
        "dados_limpos = dados_limpos.query(\"PATIENT_VISIT_IDENTIFIER not in @a_remover\")\r\n",
        "dados_limpos.dropna(inplace=True)\r\n",
        "dados_limpos = dados_limpos.groupby(\"PATIENT_VISIT_IDENTIFIER\").apply(prepare_window)\r\n",
        "dados_limpos = pd.get_dummies(dados_limpos)\r\n",
        "dados_limpos = remove_corr_var(dados_limpos)\r\n",
        "\r\n",
        "modelo_random_dados_limpos = RandomForestClassifier(n_estimators=1000,\r\n",
        "                                                    n_jobs=-1,\r\n",
        "                                                    max_depth=4,\r\n",
        "                                                    min_samples_leaf=6,\r\n",
        "                                                    min_samples_split=6,\r\n",
        "                                                    max_samples = 0.3,\r\n",
        "                                                    max_leaf_nodes = 25)\r\n",
        "\r\n",
        "roda_modelo_cv_pipeline(modelo_random_dados_limpos,dados_limpos,5,10)\r\n",
        "print(\"\\033[1m\" + f\"Tempo de execução: {(time.time() -  start_time )}  secs.\" + \"\\033[0m\")"
      ],
      "execution_count": null,
      "outputs": [
        {
          "output_type": "stream",
          "text": [
            "AUC  0.8068556564938143\n",
            "\u001b[1mTempo de execução: 79.43311524391174  secs.\u001b[0m\n"
          ],
          "name": "stdout"
        }
      ]
    },
    {
      "cell_type": "code",
      "metadata": {
        "colab": {
          "base_uri": "https://localhost:8080/"
        },
        "id": "zRVDziCTq7A5",
        "outputId": "c1352fea-f705-47a3-fb2a-e2616ebe4bcc"
      },
      "source": [
        "start_time = time.time()\r\n",
        "dados = pd.read_excel(\"https://github.com/alura-cursos/covid-19-clinical/blob/main/Kaggle_Sirio_Libanes_ICU_Prediction.xlsx?raw=true\")\r\n",
        "np.random.seed(45438)\r\n",
        "\r\n",
        "dados_limpos = preenche_tabela(dados)\r\n",
        "a_remover = dados_limpos.query(\"WINDOW=='0-2' and ICU==1\")['PATIENT_VISIT_IDENTIFIER'].values\r\n",
        "dados_limpos = dados_limpos.query(\"PATIENT_VISIT_IDENTIFIER not in @a_remover\")\r\n",
        "dados_limpos.dropna(inplace=True)\r\n",
        "dados_limpos = dados_limpos.groupby(\"PATIENT_VISIT_IDENTIFIER\").apply(prepare_window)\r\n",
        "dados_limpos = pd.get_dummies(dados_limpos)\r\n",
        "dados_limpos = remove_corr_var(dados_limpos)\r\n",
        "\r\n",
        "\r\n",
        "\r\n",
        "modelo_random_dados_limpos = XGBClassifier(base_score=0.5, booster='gbtree', colsample_bylevel=1,\r\n",
        "              colsample_bynode=1, colsample_bytree=1, gamma=0.2,\r\n",
        "              learning_rate=0.1, max_delta_step=4, max_depth=16,\r\n",
        "              min_child_weight=4, missing=None, n_estimators=50, n_jobs=-1,\r\n",
        "              nthread=None, objective='binary:logistic',\r\n",
        "              reg_alpha=0, reg_lambda=1, scale_pos_weight=1, seed=None,\r\n",
        "              silent=None, subsample=1, verbosity=1)\r\n",
        "\r\n",
        "roda_modelo_cv_pipeline(modelo_random_dados_limpos,dados_limpos,5,10)\r\n",
        "print(\"\\033[1m\" + f\"Tempo de execução: {(time.time() -  start_time )}  secs.\" + \"\\033[0m\")"
      ],
      "execution_count": null,
      "outputs": [
        {
          "output_type": "stream",
          "text": [
            "AUC  0.7742089772188457\n",
            "\u001b[1mTempo de execução: 8.993781089782715  secs.\u001b[0m\n"
          ],
          "name": "stdout"
        }
      ]
    }
  ]
}