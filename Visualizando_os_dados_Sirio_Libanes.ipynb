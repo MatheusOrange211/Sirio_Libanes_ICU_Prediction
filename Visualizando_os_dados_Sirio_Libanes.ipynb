{
  "nbformat": 4,
  "nbformat_minor": 0,
  "metadata": {
    "colab": {
      "name": "Visualizando os dados - Sirio Libanes",
      "provenance": [],
      "authorship_tag": "ABX9TyPSxTRLuFruHOQ8BlxeB7x0",
      "include_colab_link": true
    },
    "kernelspec": {
      "name": "python3",
      "display_name": "Python 3"
    }
  },
  "cells": [
    {
      "cell_type": "markdown",
      "metadata": {
        "id": "view-in-github",
        "colab_type": "text"
      },
      "source": [
        "<a href=\"https://colab.research.google.com/github/MatheusOrange211/Sirio_Libanes_ICU_Prediction/blob/main/Visualizando_os_dados_Sirio_Libanes.ipynb\" target=\"_parent\"><img src=\"https://colab.research.google.com/assets/colab-badge.svg\" alt=\"Open In Colab\"/></a>"
      ]
    },
    {
      "cell_type": "markdown",
      "metadata": {
        "id": "kgo8HpUU_Cs0"
      },
      "source": [
        "#Exploração dos dados - Buscando entender um pouco mais o que temos"
      ]
    },
    {
      "cell_type": "markdown",
      "metadata": {
        "id": "rt3QHrzkDR8I"
      },
      "source": [
        "Para entendermos melhor como nosso conjunto de dados é e qual modelo ir implementando, primeiro devemos entender o que temos de dados. Afinal, saber quais dados são faltantes, quais informações podemos ter que realmente ajudarão, dentre outras coisas, serão de caráter fundamental para o modelo obter uma boa performance. Abaixo, lhe mostro o que possuímos e como o modelo que apliquei auxiliará no dia-a-dia do hospital, no que tange a tomada de decisões."
      ]
    },
    {
      "cell_type": "markdown",
      "metadata": {
        "id": "SpFmGdqlDwU4"
      },
      "source": [
        "Primeiramente importo as bibliotecas que serão usadas nesta parte do projeto. Elas contêm ferramentas necessárias para a exploração dos dados."
      ]
    },
    {
      "cell_type": "code",
      "metadata": {
        "id": "qIGuVkft--95"
      },
      "source": [
        "import pandas as pd\r\n",
        "import numpy as np\r\n",
        "import matplotlib.pyplot as plt\r\n",
        "import matplotlib.ticker as ticker\r\n",
        "import seaborn as sns\r\n",
        "import missingno as msno\r\n",
        "\r\n",
        "sns.set()"
      ],
      "execution_count": 17,
      "outputs": []
    },
    {
      "cell_type": "markdown",
      "metadata": {
        "id": "qAiJeNAUELeP"
      },
      "source": [
        "#DADOS"
      ]
    },
    {
      "cell_type": "code",
      "metadata": {
        "id": "jdB4-Gli_KcY"
      },
      "source": [
        "dados = pd.read_excel(\"https://github.com/MatheusOrange211/Sirio_Libanes_ICU_Prediction/raw/main/data/Kaggle_Sirio_Libanes_ICU_Prediction.xlsx\")"
      ],
      "execution_count": 13,
      "outputs": []
    },
    {
      "cell_type": "markdown",
      "metadata": {
        "id": "Vlex7NTAENc2"
      },
      "source": [
        "#FUNÇÕES "
      ]
    },
    {
      "cell_type": "markdown",
      "metadata": {
        "id": "vfxiWMz3EExp"
      },
      "source": [
        "Essa função retorna um resumo simples do que temos no nosso conjunto de dados. Informações como quantidade de linhas e colunas e quantidade totais de valores Not a Number (Nan), que causam muitos problemas na hora de maninpular dados, são apresentados."
      ]
    },
    {
      "cell_type": "code",
      "metadata": {
        "id": "z4btQ1VyEPQc"
      },
      "source": [
        "def resume_dataframe(dataset  : pd.DataFrame):\r\n",
        "  \r\n",
        "  data_nan = dataset.isnull().any().any()\r\n",
        "  dataset_types = list (set(dataset.dtypes.values))\r\n",
        "  print(\"################ RESUMO BÁSICO ####################\\n\")\r\n",
        "  print(f\"Quantidade de instâncias: {len(dados)} (linhas)\\nQuantidade de Atributos: {len(dados.columns)} (colunas)\\n\")\r\n",
        "\r\n",
        "  if data_nan:\r\n",
        "    print(f\"Possui dados NaN ? {data_nan}\\nQuantidade de NaN totais: {dataset.isnull().sum().values.sum()}\\n\")\r\n",
        "\r\n",
        "  print(f\"Tipos de  dados que temos :\\n{dataset_types}\\n\")\r\n",
        "  print(\"##################################################\\n\")"
      ],
      "execution_count": 15,
      "outputs": []
    },
    {
      "cell_type": "markdown",
      "metadata": {
        "id": "3MfDmdNwT0zV"
      },
      "source": [
        "Essa função é responsável por gerar uma tabela detalhada e formatada sobre determinada coluna. As informações que ela gera ajudam a compreeender mais sobre o comportamento de terminada coluna e sua distribuição a longo da tabela.\r\n"
      ]
    },
    {
      "cell_type": "code",
      "metadata": {
        "id": "DFhg7f7AUHkk"
      },
      "source": [
        "def formated_table(dataset : pd.DataFrame, dicionario : dict  = None, title_index :str = None):\r\n",
        "  frequency = dataset.value_counts()\r\n",
        "  percentage = (dataset.value_counts(normalize=True) * 100).round(3)\r\n",
        "  final_dataset = pd.DataFrame({\"Frequencia\":frequency,\"Porcentagem\":percentage})\r\n",
        "\r\n",
        "  if dicionario:\r\n",
        "    final_dataset.rename(index = dicionario, inplace = True)\r\n",
        "  \r\n",
        "  if title_index:\r\n",
        "    final_dataset.rename_axis(title_index,axis=1,inplace=True)\r\n",
        "  \r\n",
        "  return final_dataset"
      ],
      "execution_count": 78,
      "outputs": []
    },
    {
      "cell_type": "markdown",
      "metadata": {
        "id": "L6mTS3pkYbKb"
      },
      "source": [
        "A função abaixo será responsável por cruzar duas colunas de dados. Dela podemos averiguar questões como:\r\n",
        "Quantos porcento das pessoas que forma admitidas em um intervalo de até 2 horas necessitaram de UTI? ou até mesmo, das pessoas que foram internadas, quantos porcento foram admitidas num intervalo de mais de 12 horas."
      ]
    },
    {
      "cell_type": "code",
      "metadata": {
        "id": "Gzl7AAQ_bPL8"
      },
      "source": [
        "def crosstab_data(dataset1: pd.DataFrame, dataset2:pd.DataFrame,normal:str = \"index\",dicio1:dict= None, dicio2: dict = None):\r\n",
        "    dataframe = (pd.crosstab(dataset1,dataset2,normalize=f\"{normal}\")*100).round(2)\r\n",
        "    \r\n",
        "    if dicio1:\r\n",
        "      dataframe.rename(index=dicio1,inplace=True)\r\n",
        "\r\n",
        "    if dicio2:\r\n",
        "      dataframe = dataframe.rename(columns=dicio2)\r\n",
        "    \r\n",
        "    return dataframe"
      ],
      "execution_count": 79,
      "outputs": []
    },
    {
      "cell_type": "markdown",
      "metadata": {
        "id": "UDF9rX0ZEk3B"
      },
      "source": [
        "#PARTINDO PARA A ANÁLISE"
      ]
    },
    {
      "cell_type": "markdown",
      "metadata": {
        "id": "Hb1JL2ifEoGX"
      },
      "source": [
        "Pra começar, vamos ver o que temos logo de cara no dataset. Compreender sua composição é de fundamental importância para uma boa tomada de decisão."
      ]
    },
    {
      "cell_type": "code",
      "metadata": {
        "colab": {
          "base_uri": "https://localhost:8080/",
          "height": 225
        },
        "id": "p6Cm6dlNE872",
        "outputId": "dec6a320-0fa8-4d9a-f026-f15c4dcc1688"
      },
      "source": [
        "dados.head(3)"
      ],
      "execution_count": 12,
      "outputs": [
        {
          "output_type": "execute_result",
          "data": {
            "text/html": [
              "<div>\n",
              "<style scoped>\n",
              "    .dataframe tbody tr th:only-of-type {\n",
              "        vertical-align: middle;\n",
              "    }\n",
              "\n",
              "    .dataframe tbody tr th {\n",
              "        vertical-align: top;\n",
              "    }\n",
              "\n",
              "    .dataframe thead th {\n",
              "        text-align: right;\n",
              "    }\n",
              "</style>\n",
              "<table border=\"1\" class=\"dataframe\">\n",
              "  <thead>\n",
              "    <tr style=\"text-align: right;\">\n",
              "      <th></th>\n",
              "      <th>PATIENT_VISIT_IDENTIFIER</th>\n",
              "      <th>AGE_ABOVE65</th>\n",
              "      <th>AGE_PERCENTIL</th>\n",
              "      <th>GENDER</th>\n",
              "      <th>DISEASE GROUPING 1</th>\n",
              "      <th>DISEASE GROUPING 2</th>\n",
              "      <th>DISEASE GROUPING 3</th>\n",
              "      <th>DISEASE GROUPING 4</th>\n",
              "      <th>DISEASE GROUPING 5</th>\n",
              "      <th>DISEASE GROUPING 6</th>\n",
              "      <th>HTN</th>\n",
              "      <th>IMMUNOCOMPROMISED</th>\n",
              "      <th>OTHER</th>\n",
              "      <th>ALBUMIN_MEDIAN</th>\n",
              "      <th>ALBUMIN_MEAN</th>\n",
              "      <th>ALBUMIN_MIN</th>\n",
              "      <th>ALBUMIN_MAX</th>\n",
              "      <th>ALBUMIN_DIFF</th>\n",
              "      <th>BE_ARTERIAL_MEDIAN</th>\n",
              "      <th>BE_ARTERIAL_MEAN</th>\n",
              "      <th>BE_ARTERIAL_MIN</th>\n",
              "      <th>BE_ARTERIAL_MAX</th>\n",
              "      <th>BE_ARTERIAL_DIFF</th>\n",
              "      <th>BE_VENOUS_MEDIAN</th>\n",
              "      <th>BE_VENOUS_MEAN</th>\n",
              "      <th>BE_VENOUS_MIN</th>\n",
              "      <th>BE_VENOUS_MAX</th>\n",
              "      <th>BE_VENOUS_DIFF</th>\n",
              "      <th>BIC_ARTERIAL_MEDIAN</th>\n",
              "      <th>BIC_ARTERIAL_MEAN</th>\n",
              "      <th>BIC_ARTERIAL_MIN</th>\n",
              "      <th>BIC_ARTERIAL_MAX</th>\n",
              "      <th>BIC_ARTERIAL_DIFF</th>\n",
              "      <th>BIC_VENOUS_MEDIAN</th>\n",
              "      <th>BIC_VENOUS_MEAN</th>\n",
              "      <th>BIC_VENOUS_MIN</th>\n",
              "      <th>BIC_VENOUS_MAX</th>\n",
              "      <th>BIC_VENOUS_DIFF</th>\n",
              "      <th>BILLIRUBIN_MEDIAN</th>\n",
              "      <th>BILLIRUBIN_MEAN</th>\n",
              "      <th>...</th>\n",
              "      <th>DIMER_MAX</th>\n",
              "      <th>DIMER_DIFF</th>\n",
              "      <th>BLOODPRESSURE_DIASTOLIC_MEAN</th>\n",
              "      <th>BLOODPRESSURE_SISTOLIC_MEAN</th>\n",
              "      <th>HEART_RATE_MEAN</th>\n",
              "      <th>RESPIRATORY_RATE_MEAN</th>\n",
              "      <th>TEMPERATURE_MEAN</th>\n",
              "      <th>OXYGEN_SATURATION_MEAN</th>\n",
              "      <th>BLOODPRESSURE_DIASTOLIC_MEDIAN</th>\n",
              "      <th>BLOODPRESSURE_SISTOLIC_MEDIAN</th>\n",
              "      <th>HEART_RATE_MEDIAN</th>\n",
              "      <th>RESPIRATORY_RATE_MEDIAN</th>\n",
              "      <th>TEMPERATURE_MEDIAN</th>\n",
              "      <th>OXYGEN_SATURATION_MEDIAN</th>\n",
              "      <th>BLOODPRESSURE_DIASTOLIC_MIN</th>\n",
              "      <th>BLOODPRESSURE_SISTOLIC_MIN</th>\n",
              "      <th>HEART_RATE_MIN</th>\n",
              "      <th>RESPIRATORY_RATE_MIN</th>\n",
              "      <th>TEMPERATURE_MIN</th>\n",
              "      <th>OXYGEN_SATURATION_MIN</th>\n",
              "      <th>BLOODPRESSURE_DIASTOLIC_MAX</th>\n",
              "      <th>BLOODPRESSURE_SISTOLIC_MAX</th>\n",
              "      <th>HEART_RATE_MAX</th>\n",
              "      <th>RESPIRATORY_RATE_MAX</th>\n",
              "      <th>TEMPERATURE_MAX</th>\n",
              "      <th>OXYGEN_SATURATION_MAX</th>\n",
              "      <th>BLOODPRESSURE_DIASTOLIC_DIFF</th>\n",
              "      <th>BLOODPRESSURE_SISTOLIC_DIFF</th>\n",
              "      <th>HEART_RATE_DIFF</th>\n",
              "      <th>RESPIRATORY_RATE_DIFF</th>\n",
              "      <th>TEMPERATURE_DIFF</th>\n",
              "      <th>OXYGEN_SATURATION_DIFF</th>\n",
              "      <th>BLOODPRESSURE_DIASTOLIC_DIFF_REL</th>\n",
              "      <th>BLOODPRESSURE_SISTOLIC_DIFF_REL</th>\n",
              "      <th>HEART_RATE_DIFF_REL</th>\n",
              "      <th>RESPIRATORY_RATE_DIFF_REL</th>\n",
              "      <th>TEMPERATURE_DIFF_REL</th>\n",
              "      <th>OXYGEN_SATURATION_DIFF_REL</th>\n",
              "      <th>WINDOW</th>\n",
              "      <th>ICU</th>\n",
              "    </tr>\n",
              "  </thead>\n",
              "  <tbody>\n",
              "    <tr>\n",
              "      <th>0</th>\n",
              "      <td>0</td>\n",
              "      <td>1</td>\n",
              "      <td>60th</td>\n",
              "      <td>0</td>\n",
              "      <td>0.0</td>\n",
              "      <td>0.0</td>\n",
              "      <td>0.0</td>\n",
              "      <td>0.0</td>\n",
              "      <td>1.0</td>\n",
              "      <td>1.0</td>\n",
              "      <td>0.0</td>\n",
              "      <td>0.0</td>\n",
              "      <td>1.0</td>\n",
              "      <td>NaN</td>\n",
              "      <td>NaN</td>\n",
              "      <td>NaN</td>\n",
              "      <td>NaN</td>\n",
              "      <td>NaN</td>\n",
              "      <td>NaN</td>\n",
              "      <td>NaN</td>\n",
              "      <td>NaN</td>\n",
              "      <td>NaN</td>\n",
              "      <td>NaN</td>\n",
              "      <td>NaN</td>\n",
              "      <td>NaN</td>\n",
              "      <td>NaN</td>\n",
              "      <td>NaN</td>\n",
              "      <td>NaN</td>\n",
              "      <td>NaN</td>\n",
              "      <td>NaN</td>\n",
              "      <td>NaN</td>\n",
              "      <td>NaN</td>\n",
              "      <td>NaN</td>\n",
              "      <td>NaN</td>\n",
              "      <td>NaN</td>\n",
              "      <td>NaN</td>\n",
              "      <td>NaN</td>\n",
              "      <td>NaN</td>\n",
              "      <td>NaN</td>\n",
              "      <td>NaN</td>\n",
              "      <td>...</td>\n",
              "      <td>NaN</td>\n",
              "      <td>NaN</td>\n",
              "      <td>0.086420</td>\n",
              "      <td>-0.230769</td>\n",
              "      <td>-0.283019</td>\n",
              "      <td>-0.59322</td>\n",
              "      <td>-0.285714</td>\n",
              "      <td>0.736842</td>\n",
              "      <td>0.086420</td>\n",
              "      <td>-0.230769</td>\n",
              "      <td>-0.283019</td>\n",
              "      <td>-0.586207</td>\n",
              "      <td>-0.285714</td>\n",
              "      <td>0.736842</td>\n",
              "      <td>0.237113</td>\n",
              "      <td>0.0</td>\n",
              "      <td>-0.162393</td>\n",
              "      <td>-0.5</td>\n",
              "      <td>0.208791</td>\n",
              "      <td>0.898990</td>\n",
              "      <td>-0.247863</td>\n",
              "      <td>-0.459459</td>\n",
              "      <td>-0.432836</td>\n",
              "      <td>-0.636364</td>\n",
              "      <td>-0.420290</td>\n",
              "      <td>0.736842</td>\n",
              "      <td>-1.0</td>\n",
              "      <td>-1.0</td>\n",
              "      <td>-1.0</td>\n",
              "      <td>-1.0</td>\n",
              "      <td>-1.0</td>\n",
              "      <td>-1.0</td>\n",
              "      <td>-1.0</td>\n",
              "      <td>-1.0</td>\n",
              "      <td>-1.0</td>\n",
              "      <td>-1.0</td>\n",
              "      <td>-1.0</td>\n",
              "      <td>-1.0</td>\n",
              "      <td>0-2</td>\n",
              "      <td>0</td>\n",
              "    </tr>\n",
              "    <tr>\n",
              "      <th>1</th>\n",
              "      <td>0</td>\n",
              "      <td>1</td>\n",
              "      <td>60th</td>\n",
              "      <td>0</td>\n",
              "      <td>0.0</td>\n",
              "      <td>0.0</td>\n",
              "      <td>0.0</td>\n",
              "      <td>0.0</td>\n",
              "      <td>1.0</td>\n",
              "      <td>1.0</td>\n",
              "      <td>0.0</td>\n",
              "      <td>0.0</td>\n",
              "      <td>1.0</td>\n",
              "      <td>NaN</td>\n",
              "      <td>NaN</td>\n",
              "      <td>NaN</td>\n",
              "      <td>NaN</td>\n",
              "      <td>NaN</td>\n",
              "      <td>NaN</td>\n",
              "      <td>NaN</td>\n",
              "      <td>NaN</td>\n",
              "      <td>NaN</td>\n",
              "      <td>NaN</td>\n",
              "      <td>NaN</td>\n",
              "      <td>NaN</td>\n",
              "      <td>NaN</td>\n",
              "      <td>NaN</td>\n",
              "      <td>NaN</td>\n",
              "      <td>NaN</td>\n",
              "      <td>NaN</td>\n",
              "      <td>NaN</td>\n",
              "      <td>NaN</td>\n",
              "      <td>NaN</td>\n",
              "      <td>NaN</td>\n",
              "      <td>NaN</td>\n",
              "      <td>NaN</td>\n",
              "      <td>NaN</td>\n",
              "      <td>NaN</td>\n",
              "      <td>NaN</td>\n",
              "      <td>NaN</td>\n",
              "      <td>...</td>\n",
              "      <td>NaN</td>\n",
              "      <td>NaN</td>\n",
              "      <td>0.333333</td>\n",
              "      <td>-0.230769</td>\n",
              "      <td>-0.132075</td>\n",
              "      <td>-0.59322</td>\n",
              "      <td>0.535714</td>\n",
              "      <td>0.578947</td>\n",
              "      <td>0.333333</td>\n",
              "      <td>-0.230769</td>\n",
              "      <td>-0.132075</td>\n",
              "      <td>-0.586207</td>\n",
              "      <td>0.535714</td>\n",
              "      <td>0.578947</td>\n",
              "      <td>0.443299</td>\n",
              "      <td>0.0</td>\n",
              "      <td>-0.025641</td>\n",
              "      <td>-0.5</td>\n",
              "      <td>0.714286</td>\n",
              "      <td>0.838384</td>\n",
              "      <td>-0.076923</td>\n",
              "      <td>-0.459459</td>\n",
              "      <td>-0.313433</td>\n",
              "      <td>-0.636364</td>\n",
              "      <td>0.246377</td>\n",
              "      <td>0.578947</td>\n",
              "      <td>-1.0</td>\n",
              "      <td>-1.0</td>\n",
              "      <td>-1.0</td>\n",
              "      <td>-1.0</td>\n",
              "      <td>-1.0</td>\n",
              "      <td>-1.0</td>\n",
              "      <td>-1.0</td>\n",
              "      <td>-1.0</td>\n",
              "      <td>-1.0</td>\n",
              "      <td>-1.0</td>\n",
              "      <td>-1.0</td>\n",
              "      <td>-1.0</td>\n",
              "      <td>2-4</td>\n",
              "      <td>0</td>\n",
              "    </tr>\n",
              "    <tr>\n",
              "      <th>2</th>\n",
              "      <td>0</td>\n",
              "      <td>1</td>\n",
              "      <td>60th</td>\n",
              "      <td>0</td>\n",
              "      <td>0.0</td>\n",
              "      <td>0.0</td>\n",
              "      <td>0.0</td>\n",
              "      <td>0.0</td>\n",
              "      <td>1.0</td>\n",
              "      <td>1.0</td>\n",
              "      <td>0.0</td>\n",
              "      <td>0.0</td>\n",
              "      <td>1.0</td>\n",
              "      <td>0.605263</td>\n",
              "      <td>0.605263</td>\n",
              "      <td>0.605263</td>\n",
              "      <td>0.605263</td>\n",
              "      <td>-1.0</td>\n",
              "      <td>-1.0</td>\n",
              "      <td>-1.0</td>\n",
              "      <td>-1.0</td>\n",
              "      <td>-1.0</td>\n",
              "      <td>-1.0</td>\n",
              "      <td>-1.0</td>\n",
              "      <td>-1.0</td>\n",
              "      <td>-1.0</td>\n",
              "      <td>-1.0</td>\n",
              "      <td>-1.0</td>\n",
              "      <td>-0.317073</td>\n",
              "      <td>-0.317073</td>\n",
              "      <td>-0.317073</td>\n",
              "      <td>-0.317073</td>\n",
              "      <td>-1.0</td>\n",
              "      <td>-0.317073</td>\n",
              "      <td>-0.317073</td>\n",
              "      <td>-0.317073</td>\n",
              "      <td>-0.317073</td>\n",
              "      <td>-1.0</td>\n",
              "      <td>-0.93895</td>\n",
              "      <td>-0.93895</td>\n",
              "      <td>...</td>\n",
              "      <td>-0.994912</td>\n",
              "      <td>-1.0</td>\n",
              "      <td>NaN</td>\n",
              "      <td>NaN</td>\n",
              "      <td>NaN</td>\n",
              "      <td>NaN</td>\n",
              "      <td>NaN</td>\n",
              "      <td>NaN</td>\n",
              "      <td>NaN</td>\n",
              "      <td>NaN</td>\n",
              "      <td>NaN</td>\n",
              "      <td>NaN</td>\n",
              "      <td>NaN</td>\n",
              "      <td>NaN</td>\n",
              "      <td>NaN</td>\n",
              "      <td>NaN</td>\n",
              "      <td>NaN</td>\n",
              "      <td>NaN</td>\n",
              "      <td>NaN</td>\n",
              "      <td>NaN</td>\n",
              "      <td>NaN</td>\n",
              "      <td>NaN</td>\n",
              "      <td>NaN</td>\n",
              "      <td>NaN</td>\n",
              "      <td>NaN</td>\n",
              "      <td>NaN</td>\n",
              "      <td>NaN</td>\n",
              "      <td>NaN</td>\n",
              "      <td>NaN</td>\n",
              "      <td>NaN</td>\n",
              "      <td>NaN</td>\n",
              "      <td>NaN</td>\n",
              "      <td>NaN</td>\n",
              "      <td>NaN</td>\n",
              "      <td>NaN</td>\n",
              "      <td>NaN</td>\n",
              "      <td>NaN</td>\n",
              "      <td>NaN</td>\n",
              "      <td>4-6</td>\n",
              "      <td>0</td>\n",
              "    </tr>\n",
              "  </tbody>\n",
              "</table>\n",
              "<p>3 rows × 231 columns</p>\n",
              "</div>"
            ],
            "text/plain": [
              "   PATIENT_VISIT_IDENTIFIER  AGE_ABOVE65  ... WINDOW  ICU\n",
              "0                         0            1  ...    0-2    0\n",
              "1                         0            1  ...    2-4    0\n",
              "2                         0            1  ...    4-6    0\n",
              "\n",
              "[3 rows x 231 columns]"
            ]
          },
          "metadata": {
            "tags": []
          },
          "execution_count": 12
        }
      ]
    },
    {
      "cell_type": "markdown",
      "metadata": {
        "id": "RqrzptD9FD9e"
      },
      "source": [
        "Acima, imprimimos apenas as 3 primeiras linhas do DataFrame. A quantidade de colunas é grande e podemos analisar isso ou pouco melhor abaixo"
      ]
    },
    {
      "cell_type": "code",
      "metadata": {
        "colab": {
          "base_uri": "https://localhost:8080/"
        },
        "id": "1tHp1mv7FP8X",
        "outputId": "bf95af0a-f434-4fac-c5d2-416f8d933c5f"
      },
      "source": [
        "resume_dataframe(dados)"
      ],
      "execution_count": 16,
      "outputs": [
        {
          "output_type": "stream",
          "text": [
            "################ RESUMO BÁSICO ####################\n",
            "\n",
            "Quantidade de instâncias: 1925 (linhas)\n",
            "Quantidade de Atributos: 231 (colunas)\n",
            "\n",
            "Possui dados NaN ? True\n",
            "Quantidade de NaN totais: 223863\n",
            "\n",
            "Tipos de  dados que temos :\n",
            "[dtype('int64'), dtype('O'), dtype('float64')]\n",
            "\n",
            "##################################################\n",
            "\n"
          ],
          "name": "stdout"
        }
      ]
    },
    {
      "cell_type": "markdown",
      "metadata": {
        "id": "r9WIp8xxFR0g"
      },
      "source": [
        "Temos **1925** linhas e **231** colunas no total. Nosso dataframe `dados` (nome que darei para o conjunto de dados original), possui valores NaN em um total de **22363** células. Isso significa que precisaremos tratar estes dados e buscar tratar estes valores ausentes para quando treinado, não termos problemas de desemepenho no modelo. Contudo, neste Notebook, nos antentaremos apenas em explorar os dados. Por fim, temos uma lista de informções que nos indicam que temos  dados do tipo **Inteiro** (*int64*), tipo **Object** (*o*) e tipo **Real** ou **Float**, em inglês (*float64*).\r\n",
        "Para fins de conhecimento temos que para tipo **Object**:\r\n",
        ">O Object tipo de dados pode apontar para dados de qualquer tipo de dados, incluindo qualquer instância de objeto que seu aplicativo reconhece. ([Link para Leitura](https://docs.microsoft.com/pt-br/dotnet/visual-basic/language-reference/data-types/object-data-type#:~:text=O%20Object%20tipo%20de%20dados,objeto%20que%20seu%20aplicativo%20reconhece.))"
      ]
    },
    {
      "cell_type": "markdown",
      "metadata": {
        "id": "sHmUi1pqHe5Z"
      },
      "source": [
        "##Compreendendo um pouco mais sobre Not a Number - NaN"
      ]
    },
    {
      "cell_type": "markdown",
      "metadata": {
        "id": "WUcKip_3Hot2"
      },
      "source": [
        "**Not a Number** ou apenas **NaN** é definido como:\r\n",
        ">  Um valor ou símbolo usado nas linguagens de programação para representar um valor numérico indefinido ou irrepresentável. Seu uso sistemático foi introduzido pelo padrão IEEE 754 em 1985, junto com a representação de outras quantidade não finitas tais como infinitos ([link para leitura](https://pt.wikipedia.org/wiki/NaN))\r\n",
        "\r\n",
        "Na análise de dados, NaN devem ser tratados com muita atenção. Dados Ausentes, conforme lista Matt Harrison, autor de *Machine Learning - Guia de Referência Rápida*, podem ser lidados da seguinte forma:\r\n",
        "* Removendo qualquer linha que contenha dados ausentes;\r\n",
        "* Removendo qualquer coluna que contenha dados ausentes;\r\n",
        "* Imputar dados aos valores ausentes;\r\n",
        "* Criar uma coluna  para informar que os dados estavam ausentes.\r\n",
        "\r\n",
        "Contudo, em cada caso, devemos avaliar bem a forma como iremos tratar esse tipo de dados. Apenas descartar, por exemplo, todas as linhas com dados ausentes, pode reduzir drasticamente nosso dataframe, e isso pode impactar negativamente o desempenho do nosso modelo.<br>\r\n",
        "Vamos então explorar estes dados NaN, e ver qual a sua porcentagem em relação as colunas."
      ]
    },
    {
      "cell_type": "code",
      "metadata": {
        "colab": {
          "base_uri": "https://localhost:8080/",
          "height": 545
        },
        "id": "FuJn-_ym_Ru2",
        "outputId": "5d05edee-d165-4339-87f7-bf29058b6d23"
      },
      "source": [
        "grafico_dados_faltantes = msno.bar(dados.sample(500))\r\n",
        "plt.title(\" Figura 1 - Porcentagem de dados ausentes nas colunas - SÍRIO LIBANÊS DATASET\",\r\n",
        "          size=18,weight='bold')\r\n",
        "\r\n",
        "grafico_dados_faltantes.get_figure();"
      ],
      "execution_count": 94,
      "outputs": [
        {
          "output_type": "display_data",
          "data": {
            "image/png": "[encoded data removed]",
            "text/plain": [
              "<Figure size 1728x720 with 2 Axes>"
            ]
          },
          "metadata": {
            "tags": []
          }
        }
      ]
    },
    {
      "cell_type": "markdown",
      "metadata": {
        "id": "pAjDE_wPA3XJ"
      },
      "source": [
        "Com a ajuda da biblioteca Missingno, podemos analisar nosso conjunto de dados de forma global e ver como todas as colunas se comportam em relação a quantidade de dados ausentes. Abaixo temos uma visão geral que mostra que grande parte das colunas apresentam apenas 40% de dados, sendo o resto em sua maioria, valores NaN."
      ]
    },
    {
      "cell_type": "markdown",
      "metadata": {
        "id": "0ufWHGVeODNm"
      },
      "source": [
        "Tendo essas informações já temos uma boa noção de que simplesmente descartar linhas e/ou colunas com dados faltantes não será uma boa ideia. O ideal será imputar valores neste caso. Isso abordamos em outro momento. Continuemos explorando nossos dados."
      ]
    },
    {
      "cell_type": "markdown",
      "metadata": {
        "id": "o1DKmebiOf9d"
      },
      "source": [
        "Uma coisa muito importante para o andamento do projeto é entender sobre as chamadas \"janelas\" ou \"windows\" que o dataset possui. Essa coluna possui informações referentes ao tempo que o paciente deu entrada no hospital. Quanto mais cedo nosso modelo conseguir prever, melhor será para os profissionais de saúde e equipe médica em relação ao tratamento, quanto para o paciente, o principal beneficiado por um atendimento e tratamento rápido que pode lhe custar a vida se negado. Vejamos um pouco sobre essa coluna e o que temos dela no geral"
      ]
    },
    {
      "cell_type": "code",
      "metadata": {
        "colab": {
          "base_uri": "https://localhost:8080/",
          "height": 204
        },
        "id": "RbYfkyEhANL0",
        "outputId": "afe18bd2-e22a-47b9-fd43-bd4315ecf0d8"
      },
      "source": [
        "intervalo_admissao = {\"0-2\": \"Até 2h\",\"2-4\":\"De 2h até 4h\",\"4-6\": \"De 4h até 6h\",\t\r\n",
        "                      \"6-12\": \"De 6h até 12h\",\"ABOVE_12\":\"Acima de 12h\"}\r\n",
        "                      \r\n",
        "formated_table(dados['WINDOW'],dicionario=intervalo_admissao)"
      ],
      "execution_count": 74,
      "outputs": [
        {
          "output_type": "execute_result",
          "data": {
            "text/html": [
              "<div>\n",
              "<style scoped>\n",
              "    .dataframe tbody tr th:only-of-type {\n",
              "        vertical-align: middle;\n",
              "    }\n",
              "\n",
              "    .dataframe tbody tr th {\n",
              "        vertical-align: top;\n",
              "    }\n",
              "\n",
              "    .dataframe thead th {\n",
              "        text-align: right;\n",
              "    }\n",
              "</style>\n",
              "<table border=\"1\" class=\"dataframe\">\n",
              "  <thead>\n",
              "    <tr style=\"text-align: right;\">\n",
              "      <th></th>\n",
              "      <th>Frequencia</th>\n",
              "      <th>Porcentagem</th>\n",
              "    </tr>\n",
              "  </thead>\n",
              "  <tbody>\n",
              "    <tr>\n",
              "      <th>De 2h até 4h</th>\n",
              "      <td>385</td>\n",
              "      <td>20.0</td>\n",
              "    </tr>\n",
              "    <tr>\n",
              "      <th>Até 2h</th>\n",
              "      <td>385</td>\n",
              "      <td>20.0</td>\n",
              "    </tr>\n",
              "    <tr>\n",
              "      <th>De 6h até 12h</th>\n",
              "      <td>385</td>\n",
              "      <td>20.0</td>\n",
              "    </tr>\n",
              "    <tr>\n",
              "      <th>Acima de 12h</th>\n",
              "      <td>385</td>\n",
              "      <td>20.0</td>\n",
              "    </tr>\n",
              "    <tr>\n",
              "      <th>De 4h até 6h</th>\n",
              "      <td>385</td>\n",
              "      <td>20.0</td>\n",
              "    </tr>\n",
              "  </tbody>\n",
              "</table>\n",
              "</div>"
            ],
            "text/plain": [
              "               Frequencia  Porcentagem\n",
              "De 2h até 4h          385         20.0\n",
              "Até 2h                385         20.0\n",
              "De 6h até 12h         385         20.0\n",
              "Acima de 12h          385         20.0\n",
              "De 4h até 6h          385         20.0"
            ]
          },
          "metadata": {
            "tags": []
          },
          "execution_count": 74
        }
      ]
    },
    {
      "cell_type": "markdown",
      "metadata": {
        "id": "2PKU5mt5UvLb"
      },
      "source": [
        "A distribuição dos dados para a coluna `WINDOW` apresenta-se precisamente dividida. Possuímos os cenários bem definidos e a partir deles, podemos buscar treinar nossos modelos em cenários variados."
      ]
    },
    {
      "cell_type": "markdown",
      "metadata": {
        "id": "XlmXhPzdY3h7"
      },
      "source": [
        "Contudo, outro ponto importante é entender como ficou a necessidade internação na UTI por horário de Admissão. A pergunta é:\r\n",
        "**Dos Pacientes que foram admitidos em um intervalo X, quantos porcento precisaram de UTI?**"
      ]
    },
    {
      "cell_type": "markdown",
      "metadata": {
        "id": "CL885-2QikSJ"
      },
      "source": [
        "Primeiros, vejamos a coluna `UCI`. O que temos nela são os dados de pacientes que vão para UTI. os valores usados são 0 e 1."
      ]
    },
    {
      "cell_type": "code",
      "metadata": {
        "colab": {
          "base_uri": "https://localhost:8080/",
          "height": 111
        },
        "id": "uRjhwHmoivbW",
        "outputId": "eeb2b7f4-bc8d-4397-e2ac-6954931ab16c"
      },
      "source": [
        "pacientes_uti_freq_porcentagem = formated_table(dados['ICU'])\r\n",
        "pacientes_uti_freq_porcentagem"
      ],
      "execution_count": 123,
      "outputs": [
        {
          "output_type": "execute_result",
          "data": {
            "text/html": [
              "<div>\n",
              "<style scoped>\n",
              "    .dataframe tbody tr th:only-of-type {\n",
              "        vertical-align: middle;\n",
              "    }\n",
              "\n",
              "    .dataframe tbody tr th {\n",
              "        vertical-align: top;\n",
              "    }\n",
              "\n",
              "    .dataframe thead th {\n",
              "        text-align: right;\n",
              "    }\n",
              "</style>\n",
              "<table border=\"1\" class=\"dataframe\">\n",
              "  <thead>\n",
              "    <tr style=\"text-align: right;\">\n",
              "      <th></th>\n",
              "      <th>Frequencia</th>\n",
              "      <th>Porcentagem</th>\n",
              "    </tr>\n",
              "  </thead>\n",
              "  <tbody>\n",
              "    <tr>\n",
              "      <th>0</th>\n",
              "      <td>1410</td>\n",
              "      <td>73.247</td>\n",
              "    </tr>\n",
              "    <tr>\n",
              "      <th>1</th>\n",
              "      <td>515</td>\n",
              "      <td>26.753</td>\n",
              "    </tr>\n",
              "  </tbody>\n",
              "</table>\n",
              "</div>"
            ],
            "text/plain": [
              "   Frequencia  Porcentagem\n",
              "0        1410       73.247\n",
              "1         515       26.753"
            ]
          },
          "metadata": {
            "tags": []
          },
          "execution_count": 123
        }
      ]
    },
    {
      "cell_type": "markdown",
      "metadata": {
        "id": "rnvooc_ki0jh"
      },
      "source": [
        "Temos uma quantidade maior de valores iguais a zero. Partiremos do pontos então que os valores iguais a zero são os pacientes que não precisam ser internados, e iguais a 1, como os pacientes que foram internados. Resumidamente, mais de **73%** dos pacientes não precisaram de UTI, enquanto cerca de **26.75 %** precisaram."
      ]
    },
    {
      "cell_type": "markdown",
      "metadata": {
        "id": "aaoPktabjQJ5"
      },
      "source": [
        "Voltando então para a análise das janelas de admissão de paciente."
      ]
    },
    {
      "cell_type": "code",
      "metadata": {
        "colab": {
          "base_uri": "https://localhost:8080/",
          "height": 235
        },
        "id": "bBThFb_RWLgQ",
        "outputId": "4d9899fb-a266-4ec8-e5d1-c91aff6bd8fc"
      },
      "source": [
        "titulo_colunas = {0:\"nao_precisa_de_uti\",1:\"precisa_de_uti\"}\r\n",
        "\r\n",
        "\r\n",
        "janela_por_uti = crosstab_data(dados['WINDOW'],dados['ICU'],\r\n",
        "                               normal='index',\r\n",
        "                               dicio1=intervalo_admissao,\r\n",
        "                               dicio2= titulo_colunas)\r\n",
        "janela_por_uti"
      ],
      "execution_count": 130,
      "outputs": [
        {
          "output_type": "execute_result",
          "data": {
            "text/html": [
              "<div>\n",
              "<style scoped>\n",
              "    .dataframe tbody tr th:only-of-type {\n",
              "        vertical-align: middle;\n",
              "    }\n",
              "\n",
              "    .dataframe tbody tr th {\n",
              "        vertical-align: top;\n",
              "    }\n",
              "\n",
              "    .dataframe thead th {\n",
              "        text-align: right;\n",
              "    }\n",
              "</style>\n",
              "<table border=\"1\" class=\"dataframe\">\n",
              "  <thead>\n",
              "    <tr style=\"text-align: right;\">\n",
              "      <th>ICU</th>\n",
              "      <th>nao_precisa_de_uti</th>\n",
              "      <th>precisa_de_uti</th>\n",
              "    </tr>\n",
              "    <tr>\n",
              "      <th>WINDOW</th>\n",
              "      <th></th>\n",
              "      <th></th>\n",
              "    </tr>\n",
              "  </thead>\n",
              "  <tbody>\n",
              "    <tr>\n",
              "      <th>Até 2h</th>\n",
              "      <td>91.69</td>\n",
              "      <td>8.31</td>\n",
              "    </tr>\n",
              "    <tr>\n",
              "      <th>De 2h até 4h</th>\n",
              "      <td>84.68</td>\n",
              "      <td>15.32</td>\n",
              "    </tr>\n",
              "    <tr>\n",
              "      <th>De 4h até 6h</th>\n",
              "      <td>74.29</td>\n",
              "      <td>25.71</td>\n",
              "    </tr>\n",
              "    <tr>\n",
              "      <th>De 6h até 12h</th>\n",
              "      <td>66.23</td>\n",
              "      <td>33.77</td>\n",
              "    </tr>\n",
              "    <tr>\n",
              "      <th>Acima de 12h</th>\n",
              "      <td>49.35</td>\n",
              "      <td>50.65</td>\n",
              "    </tr>\n",
              "  </tbody>\n",
              "</table>\n",
              "</div>"
            ],
            "text/plain": [
              "ICU            nao_precisa_de_uti  precisa_de_uti\n",
              "WINDOW                                           \n",
              "Até 2h                      91.69            8.31\n",
              "De 2h até 4h                84.68           15.32\n",
              "De 4h até 6h                74.29           25.71\n",
              "De 6h até 12h               66.23           33.77\n",
              "Acima de 12h                49.35           50.65"
            ]
          },
          "metadata": {
            "tags": []
          },
          "execution_count": 130
        }
      ]
    },
    {
      "cell_type": "markdown",
      "metadata": {
        "id": "Wn83z_mabUlK"
      },
      "source": [
        "Acima temos que: **Dos pacientes admitidos em uma janela de até 2 horas, 91.69% não precisou ser internada em UTI's**. Contudo, se formos analisando com o passar das horas, vai ficando claro que esse quadro vai mudando. **Quanto mais tarde os pacientes foram admitidos, mais foi crescendo a necessidade de ser internado na UTI**, até que chegamos ao quadro de pacientes que foram admitidos em uma janela **acima de 12 horas**. Nela, **mais de 50%** dos pacientes precisaram ir para UTI. Podemos representar esse comportamento em um gráfico para ficar mais claro."
      ]
    },
    {
      "cell_type": "code",
      "metadata": {
        "colab": {
          "base_uri": "https://localhost:8080/",
          "height": 364
        },
        "id": "2aDUN-zkWPzK",
        "outputId": "5393fe21-0b16-4879-f536-c97a15133987"
      },
      "source": [
        "fig = janela_por_uti.plot(kind='bar', figsize=(16,5),colormap ='cividis')\r\n",
        "fig.yaxis.set_major_formatter(ticker.StrMethodFormatter(\"{x:,.2f} %\"))\r\n",
        "plt.title(\"Figura 2 - Janela de Admissão X Necessidade de Internação na UTI\",size=18)\r\n",
        "fig.set_ylabel(\"Porcentagem (%)\",size=18)\r\n",
        "fig.set_xlabel(\"Intervalos de Admissão\",size=18)\r\n",
        "plt.xticks(rotation=0)\r\n",
        "plt.ylim(0,100)\r\n",
        "\r\n",
        "plt.legend(title='UTI',labels=['Não Precisa de UTI','Precisa de UTI'])\r\n",
        "\r\n",
        "fig;\r\n"
      ],
      "execution_count": 119,
      "outputs": [
        {
          "output_type": "display_data",
          "data": {
            "image/png": "[encoded data removed]",
            "text/plain": [
              "<Figure size 1152x360 with 1 Axes>"
            ]
          },
          "metadata": {
            "tags": []
          }
        }
      ]
    },
    {
      "cell_type": "markdown",
      "metadata": {
        "id": "0ka1bRgqiLFh"
      },
      "source": [
        "Acima, temos de forma mais destacada o comportamento apresentado por pacientes com janela de admissões mais tardias. A necessidade de internação em UTI vai aumentando."
      ]
    },
    {
      "cell_type": "markdown",
      "metadata": {
        "id": "i_DVvch3otfJ"
      },
      "source": [
        "Agora vejamos a distribuição das pessoas internadas ou não em relação ao tempo de admissão existente."
      ]
    },
    {
      "cell_type": "code",
      "metadata": {
        "colab": {
          "base_uri": "https://localhost:8080/",
          "height": 235
        },
        "id": "9_M98AzBW80j",
        "outputId": "bdab68d1-0fef-4696-8641-7eba0e6d8bf2"
      },
      "source": [
        "uti_por_janelas = crosstab_data(dados['WINDOW'],dados['ICU'],\r\n",
        "                               normal='columns',\r\n",
        "                               dicio1=intervalo_admissao,\r\n",
        "                               dicio2= titulo_colunas)\r\n",
        "uti_por_janelas"
      ],
      "execution_count": 132,
      "outputs": [
        {
          "output_type": "execute_result",
          "data": {
            "text/html": [
              "<div>\n",
              "<style scoped>\n",
              "    .dataframe tbody tr th:only-of-type {\n",
              "        vertical-align: middle;\n",
              "    }\n",
              "\n",
              "    .dataframe tbody tr th {\n",
              "        vertical-align: top;\n",
              "    }\n",
              "\n",
              "    .dataframe thead th {\n",
              "        text-align: right;\n",
              "    }\n",
              "</style>\n",
              "<table border=\"1\" class=\"dataframe\">\n",
              "  <thead>\n",
              "    <tr style=\"text-align: right;\">\n",
              "      <th>ICU</th>\n",
              "      <th>nao_precisa_de_uti</th>\n",
              "      <th>precisa_de_uti</th>\n",
              "    </tr>\n",
              "    <tr>\n",
              "      <th>WINDOW</th>\n",
              "      <th></th>\n",
              "      <th></th>\n",
              "    </tr>\n",
              "  </thead>\n",
              "  <tbody>\n",
              "    <tr>\n",
              "      <th>Até 2h</th>\n",
              "      <td>25.04</td>\n",
              "      <td>6.21</td>\n",
              "    </tr>\n",
              "    <tr>\n",
              "      <th>De 2h até 4h</th>\n",
              "      <td>23.12</td>\n",
              "      <td>11.46</td>\n",
              "    </tr>\n",
              "    <tr>\n",
              "      <th>De 4h até 6h</th>\n",
              "      <td>20.28</td>\n",
              "      <td>19.22</td>\n",
              "    </tr>\n",
              "    <tr>\n",
              "      <th>De 6h até 12h</th>\n",
              "      <td>18.09</td>\n",
              "      <td>25.24</td>\n",
              "    </tr>\n",
              "    <tr>\n",
              "      <th>Acima de 12h</th>\n",
              "      <td>13.48</td>\n",
              "      <td>37.86</td>\n",
              "    </tr>\n",
              "  </tbody>\n",
              "</table>\n",
              "</div>"
            ],
            "text/plain": [
              "ICU            nao_precisa_de_uti  precisa_de_uti\n",
              "WINDOW                                           \n",
              "Até 2h                      25.04            6.21\n",
              "De 2h até 4h                23.12           11.46\n",
              "De 4h até 6h                20.28           19.22\n",
              "De 6h até 12h               18.09           25.24\n",
              "Acima de 12h                13.48           37.86"
            ]
          },
          "metadata": {
            "tags": []
          },
          "execution_count": 132
        }
      ]
    },
    {
      "cell_type": "markdown",
      "metadata": {
        "id": "RNyCQ8tto333"
      },
      "source": [
        "temos que mais 37 % das pessoas que estão na UTI são do grupo de admissão acima de 12 horas."
      ]
    },
    {
      "cell_type": "code",
      "metadata": {
        "id": "f7yTowexpJuo"
      },
      "source": [
        ""
      ],
      "execution_count": null,
      "outputs": []
    }
  ]
}