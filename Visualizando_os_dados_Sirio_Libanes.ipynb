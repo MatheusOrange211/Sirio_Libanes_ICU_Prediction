{
  "nbformat": 4,
  "nbformat_minor": 0,
  "metadata": {
    "colab": {
      "name": "Visualizando os dados - Sirio Libanes",
      "provenance": [],
      "collapsed_sections": [],
      "authorship_tag": "ABX9TyPlN/vKJgSTBZWOCTAx+uKe",
      "include_colab_link": true
    },
    "kernelspec": {
      "name": "python3",
      "display_name": "Python 3"
    }
  },
  "cells": [
    {
      "cell_type": "markdown",
      "metadata": {
        "id": "view-in-github",
        "colab_type": "text"
      },
      "source": [
        "<a href=\"https://colab.research.google.com/github/MatheusOrange211/Sirio_Libanes_ICU_Prediction/blob/main/Visualizando_os_dados_Sirio_Libanes.ipynb\" target=\"_parent\"><img src=\"https://colab.research.google.com/assets/colab-badge.svg\" alt=\"Open In Colab\"/></a>"
      ]
    },
    {
      "cell_type": "markdown",
      "metadata": {
        "id": "kgo8HpUU_Cs0"
      },
      "source": [
        "#Exploração dos dados - Buscando entender um pouco mais o que temos"
      ]
    },
    {
      "cell_type": "markdown",
      "metadata": {
        "id": "rt3QHrzkDR8I"
      },
      "source": [
        "Para entendermos melhor como nosso conjunto de dados é e qual modelo ir implementando, primeiro devemos entender o que temos de dados. Afinal, saber quais dados são faltantes, quais informações podemos ter que realmente ajudarão, dentre outras coisas, serão de caráter fundamental para o modelo obter uma boa performance. Abaixo, lhe mostro o que possuímos e como o modelo que apliquei auxiliará no dia-a-dia do hospital, no que tange a tomada de decisões."
      ]
    },
    {
      "cell_type": "markdown",
      "metadata": {
        "id": "SpFmGdqlDwU4"
      },
      "source": [
        "Primeiramente importo as bibliotecas que serão usadas nesta parte do projeto. Elas contêm ferramentas necessárias para a exploração dos dados."
      ]
    },
    {
      "cell_type": "code",
      "metadata": {
        "id": "qIGuVkft--95"
      },
      "source": [
        "import pandas as pd\r\n",
        "import numpy as np\r\n",
        "import matplotlib.pyplot as plt\r\n",
        "import matplotlib.ticker as ticker\r\n",
        "import seaborn as sns\r\n",
        "import missingno as msno\r\n",
        "\r\n",
        "sns.set()"
      ],
      "execution_count": 1,
      "outputs": []
    },
    {
      "cell_type": "markdown",
      "metadata": {
        "id": "qAiJeNAUELeP"
      },
      "source": [
        "#DADOS"
      ]
    },
    {
      "cell_type": "code",
      "metadata": {
        "id": "jdB4-Gli_KcY"
      },
      "source": [
        "dados = pd.read_excel(\"https://github.com/MatheusOrange211/Sirio_Libanes_ICU_Prediction/raw/main/data/Kaggle_Sirio_Libanes_ICU_Prediction.xlsx\")"
      ],
      "execution_count": 2,
      "outputs": []
    },
    {
      "cell_type": "markdown",
      "metadata": {
        "id": "Vlex7NTAENc2"
      },
      "source": [
        "#FUNÇÕES "
      ]
    },
    {
      "cell_type": "markdown",
      "metadata": {
        "id": "vfxiWMz3EExp"
      },
      "source": [
        "Essa função retorna um resumo simples do que temos no nosso conjunto de dados. Informações como quantidade de linhas e colunas e quantidade totais de valores Not a Number (Nan), que causam muitos problemas na hora de maninpular dados, são apresentados."
      ]
    },
    {
      "cell_type": "code",
      "metadata": {
        "id": "z4btQ1VyEPQc"
      },
      "source": [
        "def resume_dataframe(dataset  : pd.DataFrame):\r\n",
        "  \r\n",
        "  data_nan = dataset.isnull().any().any()\r\n",
        "  dataset_types = list (set(dataset.dtypes.values))\r\n",
        "  print(\"################ RESUMO BÁSICO ####################\\n\")\r\n",
        "  print(f\"Quantidade de instâncias: {dataset.shape[0]} (linhas)\\nQuantidade de Atributos: {dataset.shape[1]} (colunas)\\n\")\r\n",
        "\r\n",
        "  if data_nan:\r\n",
        "    print(f\"Possui dados NaN ? {data_nan}\\nQuantidade de NaN totais: {dataset.isnull().sum().values.sum()}\\n\")\r\n",
        "\r\n",
        "  print(f\"Tipos de  dados que temos :\\n{dataset_types}\\n\")\r\n",
        "  print(\"##################################################\\n\")"
      ],
      "execution_count": 143,
      "outputs": []
    },
    {
      "cell_type": "markdown",
      "metadata": {
        "id": "3MfDmdNwT0zV"
      },
      "source": [
        "Essa função é responsável por gerar uma tabela detalhada e formatada sobre determinada coluna. As informações que ela gera ajudam a compreeender mais sobre o comportamento de terminada coluna e sua distribuição a longo da tabela.\r\n"
      ]
    },
    {
      "cell_type": "code",
      "metadata": {
        "id": "DFhg7f7AUHkk"
      },
      "source": [
        "def formated_table(dataset : pd.DataFrame, dicionario : dict  = None, title_index :str = None):\r\n",
        "  frequency = dataset.value_counts()\r\n",
        "  percentage = (dataset.value_counts(normalize=True) * 100).round(3)\r\n",
        "  final_dataset = pd.DataFrame({\"Frequencia\":frequency,\"Porcentagem\":percentage})\r\n",
        "\r\n",
        "  if dicionario:\r\n",
        "    final_dataset.rename(index = dicionario, inplace = True)\r\n",
        "  \r\n",
        "  if title_index:\r\n",
        "    final_dataset.rename_axis(title_index,axis=1,inplace=True)\r\n",
        "  \r\n",
        "  return final_dataset"
      ],
      "execution_count": 4,
      "outputs": []
    },
    {
      "cell_type": "markdown",
      "metadata": {
        "id": "L6mTS3pkYbKb"
      },
      "source": [
        "A função abaixo será responsável por cruzar duas colunas de dados. Dela podemos averiguar questões como:\r\n",
        "Quantos porcento das pessoas que forma admitidas em um intervalo de até 2 horas necessitaram de UTI? ou até mesmo, das pessoas que foram internadas, quantos porcento foram admitidas num intervalo de mais de 12 horas."
      ]
    },
    {
      "cell_type": "code",
      "metadata": {
        "id": "Gzl7AAQ_bPL8"
      },
      "source": [
        "def crosstab_data(dataset1: pd.DataFrame, dataset2:pd.DataFrame,normal:str = \"index\",dicio1:dict= None, dicio2: dict = None):\r\n",
        "    dataframe = (pd.crosstab(dataset1,dataset2,normalize=f\"{normal}\")*100).round(2)\r\n",
        "    \r\n",
        "    if dicio1:\r\n",
        "      dataframe.rename(index=dicio1,inplace=True)\r\n",
        "\r\n",
        "    if dicio2:\r\n",
        "      dataframe = dataframe.rename(columns=dicio2)\r\n",
        "    \r\n",
        "    return dataframe"
      ],
      "execution_count": 5,
      "outputs": []
    },
    {
      "cell_type": "markdown",
      "metadata": {
        "id": "lUUJVx-pE3t0"
      },
      "source": [
        "Nessa função, o que acontece é que passando nosso dataframe (contendo NaN e strings - não se preocupe quanto a isso), filtramos as colunas e ficamos apenas com as que são numéricas. Depois passamos o método de correlação e damos um .`pipe()` (com ele, a gente pode aplicar funções no DataFrame, por exemplo). Aplicamos um lambda e passamos um `np.tril()`. O que ele fará é retornar os valores maiores que -1 numa matrix de diagonal `k-therizada` (Leia a [documentação](https://numpy.org/doc/stable/reference/generated/numpy.tril.html) para um maior aprofundamento). Criamos as colunas e index e empilhamos as colunas que são geradas durante a correlação. Passando outro `pipe()`, retornamos apenas os valores que são maiores que o parâmetro que passamos na declaração da função. Por último damos um `query()` para realizar um filtro em valores que estão na coluna `level_0` e não em `level_1` ."
      ]
    },
    {
      "cell_type": "code",
      "metadata": {
        "id": "RDUoUeL8E34C"
      },
      "source": [
        "def correlated_columns_harrison(dataset, threshold = 0.95):\r\n",
        "  df = dataset[dataset.describe().columns]  \r\n",
        "  return (\r\n",
        "      df.corr().pipe(lambda df1: pd.DataFrame(np.tril(df1,k=-1),\r\n",
        "                                              columns = df.columns,\r\n",
        "                                              index = df.columns,\r\n",
        "                                              )\r\n",
        "      )\r\n",
        "      .stack()\r\n",
        "      .rename(\"pearson\")\r\n",
        "      .pipe(\r\n",
        "          lambda s: s[s.abs() >threshold].reset_index()\r\n",
        "      )\r\n",
        "      .query(\"level_0 not in level_1\")\r\n",
        "  )"
      ],
      "execution_count": 6,
      "outputs": []
    },
    {
      "cell_type": "markdown",
      "metadata": {
        "id": "imuobZCJWdXg"
      },
      "source": [
        "Nessa função, iremos criar uma lista com as colunas com valores correlacionados que serão descartadas. Para as duas colunas que ela possui, iremos dropar valores repetidos e adicionar os que sobram a uma lista que é retornada."
      ]
    },
    {
      "cell_type": "code",
      "metadata": {
        "id": "HMme88bVVScU"
      },
      "source": [
        "def descartar_colunas_correlacionadas(dataset: pd.DataFrame):\r\n",
        "    colunas_com_muita_correlacao = []\r\n",
        "    for valor in dataset['level_0'].drop_duplicates().values:\r\n",
        "      colunas_com_muita_correlacao.append(valor)\r\n",
        "    for valor in dataset['level_1'].drop_duplicates().values:\r\n",
        "      colunas_com_muita_correlacao.append(valor)\r\n",
        "    return colunas_com_muita_correlacao"
      ],
      "execution_count": 132,
      "outputs": []
    },
    {
      "cell_type": "markdown",
      "metadata": {
        "id": "UDF9rX0ZEk3B"
      },
      "source": [
        "#PARTINDO PARA A ANÁLISE"
      ]
    },
    {
      "cell_type": "markdown",
      "metadata": {
        "id": "Hb1JL2ifEoGX"
      },
      "source": [
        "Pra começar, vamos ver o que temos logo de cara no dataset. Compreender sua composição é de fundamental importância para uma boa tomada de decisão."
      ]
    },
    {
      "cell_type": "code",
      "metadata": {
        "colab": {
          "base_uri": "https://localhost:8080/",
          "height": 220
        },
        "id": "p6Cm6dlNE872",
        "outputId": "117df41c-aea3-457f-b2e2-b860546628a4"
      },
      "source": [
        "dados.head(3)"
      ],
      "execution_count": 7,
      "outputs": [
        {
          "output_type": "execute_result",
          "data": {
            "text/html": [
              "<div>\n",
              "<style scoped>\n",
              "    .dataframe tbody tr th:only-of-type {\n",
              "        vertical-align: middle;\n",
              "    }\n",
              "\n",
              "    .dataframe tbody tr th {\n",
              "        vertical-align: top;\n",
              "    }\n",
              "\n",
              "    .dataframe thead th {\n",
              "        text-align: right;\n",
              "    }\n",
              "</style>\n",
              "<table border=\"1\" class=\"dataframe\">\n",
              "  <thead>\n",
              "    <tr style=\"text-align: right;\">\n",
              "      <th></th>\n",
              "      <th>PATIENT_VISIT_IDENTIFIER</th>\n",
              "      <th>AGE_ABOVE65</th>\n",
              "      <th>AGE_PERCENTIL</th>\n",
              "      <th>GENDER</th>\n",
              "      <th>DISEASE GROUPING 1</th>\n",
              "      <th>DISEASE GROUPING 2</th>\n",
              "      <th>DISEASE GROUPING 3</th>\n",
              "      <th>DISEASE GROUPING 4</th>\n",
              "      <th>DISEASE GROUPING 5</th>\n",
              "      <th>DISEASE GROUPING 6</th>\n",
              "      <th>HTN</th>\n",
              "      <th>IMMUNOCOMPROMISED</th>\n",
              "      <th>OTHER</th>\n",
              "      <th>ALBUMIN_MEDIAN</th>\n",
              "      <th>ALBUMIN_MEAN</th>\n",
              "      <th>ALBUMIN_MIN</th>\n",
              "      <th>ALBUMIN_MAX</th>\n",
              "      <th>ALBUMIN_DIFF</th>\n",
              "      <th>BE_ARTERIAL_MEDIAN</th>\n",
              "      <th>BE_ARTERIAL_MEAN</th>\n",
              "      <th>BE_ARTERIAL_MIN</th>\n",
              "      <th>BE_ARTERIAL_MAX</th>\n",
              "      <th>BE_ARTERIAL_DIFF</th>\n",
              "      <th>BE_VENOUS_MEDIAN</th>\n",
              "      <th>BE_VENOUS_MEAN</th>\n",
              "      <th>BE_VENOUS_MIN</th>\n",
              "      <th>BE_VENOUS_MAX</th>\n",
              "      <th>BE_VENOUS_DIFF</th>\n",
              "      <th>BIC_ARTERIAL_MEDIAN</th>\n",
              "      <th>BIC_ARTERIAL_MEAN</th>\n",
              "      <th>BIC_ARTERIAL_MIN</th>\n",
              "      <th>BIC_ARTERIAL_MAX</th>\n",
              "      <th>BIC_ARTERIAL_DIFF</th>\n",
              "      <th>BIC_VENOUS_MEDIAN</th>\n",
              "      <th>BIC_VENOUS_MEAN</th>\n",
              "      <th>BIC_VENOUS_MIN</th>\n",
              "      <th>BIC_VENOUS_MAX</th>\n",
              "      <th>BIC_VENOUS_DIFF</th>\n",
              "      <th>BILLIRUBIN_MEDIAN</th>\n",
              "      <th>BILLIRUBIN_MEAN</th>\n",
              "      <th>...</th>\n",
              "      <th>DIMER_MAX</th>\n",
              "      <th>DIMER_DIFF</th>\n",
              "      <th>BLOODPRESSURE_DIASTOLIC_MEAN</th>\n",
              "      <th>BLOODPRESSURE_SISTOLIC_MEAN</th>\n",
              "      <th>HEART_RATE_MEAN</th>\n",
              "      <th>RESPIRATORY_RATE_MEAN</th>\n",
              "      <th>TEMPERATURE_MEAN</th>\n",
              "      <th>OXYGEN_SATURATION_MEAN</th>\n",
              "      <th>BLOODPRESSURE_DIASTOLIC_MEDIAN</th>\n",
              "      <th>BLOODPRESSURE_SISTOLIC_MEDIAN</th>\n",
              "      <th>HEART_RATE_MEDIAN</th>\n",
              "      <th>RESPIRATORY_RATE_MEDIAN</th>\n",
              "      <th>TEMPERATURE_MEDIAN</th>\n",
              "      <th>OXYGEN_SATURATION_MEDIAN</th>\n",
              "      <th>BLOODPRESSURE_DIASTOLIC_MIN</th>\n",
              "      <th>BLOODPRESSURE_SISTOLIC_MIN</th>\n",
              "      <th>HEART_RATE_MIN</th>\n",
              "      <th>RESPIRATORY_RATE_MIN</th>\n",
              "      <th>TEMPERATURE_MIN</th>\n",
              "      <th>OXYGEN_SATURATION_MIN</th>\n",
              "      <th>BLOODPRESSURE_DIASTOLIC_MAX</th>\n",
              "      <th>BLOODPRESSURE_SISTOLIC_MAX</th>\n",
              "      <th>HEART_RATE_MAX</th>\n",
              "      <th>RESPIRATORY_RATE_MAX</th>\n",
              "      <th>TEMPERATURE_MAX</th>\n",
              "      <th>OXYGEN_SATURATION_MAX</th>\n",
              "      <th>BLOODPRESSURE_DIASTOLIC_DIFF</th>\n",
              "      <th>BLOODPRESSURE_SISTOLIC_DIFF</th>\n",
              "      <th>HEART_RATE_DIFF</th>\n",
              "      <th>RESPIRATORY_RATE_DIFF</th>\n",
              "      <th>TEMPERATURE_DIFF</th>\n",
              "      <th>OXYGEN_SATURATION_DIFF</th>\n",
              "      <th>BLOODPRESSURE_DIASTOLIC_DIFF_REL</th>\n",
              "      <th>BLOODPRESSURE_SISTOLIC_DIFF_REL</th>\n",
              "      <th>HEART_RATE_DIFF_REL</th>\n",
              "      <th>RESPIRATORY_RATE_DIFF_REL</th>\n",
              "      <th>TEMPERATURE_DIFF_REL</th>\n",
              "      <th>OXYGEN_SATURATION_DIFF_REL</th>\n",
              "      <th>WINDOW</th>\n",
              "      <th>ICU</th>\n",
              "    </tr>\n",
              "  </thead>\n",
              "  <tbody>\n",
              "    <tr>\n",
              "      <th>0</th>\n",
              "      <td>0</td>\n",
              "      <td>1</td>\n",
              "      <td>60th</td>\n",
              "      <td>0</td>\n",
              "      <td>0.0</td>\n",
              "      <td>0.0</td>\n",
              "      <td>0.0</td>\n",
              "      <td>0.0</td>\n",
              "      <td>1.0</td>\n",
              "      <td>1.0</td>\n",
              "      <td>0.0</td>\n",
              "      <td>0.0</td>\n",
              "      <td>1.0</td>\n",
              "      <td>NaN</td>\n",
              "      <td>NaN</td>\n",
              "      <td>NaN</td>\n",
              "      <td>NaN</td>\n",
              "      <td>NaN</td>\n",
              "      <td>NaN</td>\n",
              "      <td>NaN</td>\n",
              "      <td>NaN</td>\n",
              "      <td>NaN</td>\n",
              "      <td>NaN</td>\n",
              "      <td>NaN</td>\n",
              "      <td>NaN</td>\n",
              "      <td>NaN</td>\n",
              "      <td>NaN</td>\n",
              "      <td>NaN</td>\n",
              "      <td>NaN</td>\n",
              "      <td>NaN</td>\n",
              "      <td>NaN</td>\n",
              "      <td>NaN</td>\n",
              "      <td>NaN</td>\n",
              "      <td>NaN</td>\n",
              "      <td>NaN</td>\n",
              "      <td>NaN</td>\n",
              "      <td>NaN</td>\n",
              "      <td>NaN</td>\n",
              "      <td>NaN</td>\n",
              "      <td>NaN</td>\n",
              "      <td>...</td>\n",
              "      <td>NaN</td>\n",
              "      <td>NaN</td>\n",
              "      <td>0.086420</td>\n",
              "      <td>-0.230769</td>\n",
              "      <td>-0.283019</td>\n",
              "      <td>-0.59322</td>\n",
              "      <td>-0.285714</td>\n",
              "      <td>0.736842</td>\n",
              "      <td>0.086420</td>\n",
              "      <td>-0.230769</td>\n",
              "      <td>-0.283019</td>\n",
              "      <td>-0.586207</td>\n",
              "      <td>-0.285714</td>\n",
              "      <td>0.736842</td>\n",
              "      <td>0.237113</td>\n",
              "      <td>0.0</td>\n",
              "      <td>-0.162393</td>\n",
              "      <td>-0.5</td>\n",
              "      <td>0.208791</td>\n",
              "      <td>0.898990</td>\n",
              "      <td>-0.247863</td>\n",
              "      <td>-0.459459</td>\n",
              "      <td>-0.432836</td>\n",
              "      <td>-0.636364</td>\n",
              "      <td>-0.420290</td>\n",
              "      <td>0.736842</td>\n",
              "      <td>-1.0</td>\n",
              "      <td>-1.0</td>\n",
              "      <td>-1.0</td>\n",
              "      <td>-1.0</td>\n",
              "      <td>-1.0</td>\n",
              "      <td>-1.0</td>\n",
              "      <td>-1.0</td>\n",
              "      <td>-1.0</td>\n",
              "      <td>-1.0</td>\n",
              "      <td>-1.0</td>\n",
              "      <td>-1.0</td>\n",
              "      <td>-1.0</td>\n",
              "      <td>0-2</td>\n",
              "      <td>0</td>\n",
              "    </tr>\n",
              "    <tr>\n",
              "      <th>1</th>\n",
              "      <td>0</td>\n",
              "      <td>1</td>\n",
              "      <td>60th</td>\n",
              "      <td>0</td>\n",
              "      <td>0.0</td>\n",
              "      <td>0.0</td>\n",
              "      <td>0.0</td>\n",
              "      <td>0.0</td>\n",
              "      <td>1.0</td>\n",
              "      <td>1.0</td>\n",
              "      <td>0.0</td>\n",
              "      <td>0.0</td>\n",
              "      <td>1.0</td>\n",
              "      <td>NaN</td>\n",
              "      <td>NaN</td>\n",
              "      <td>NaN</td>\n",
              "      <td>NaN</td>\n",
              "      <td>NaN</td>\n",
              "      <td>NaN</td>\n",
              "      <td>NaN</td>\n",
              "      <td>NaN</td>\n",
              "      <td>NaN</td>\n",
              "      <td>NaN</td>\n",
              "      <td>NaN</td>\n",
              "      <td>NaN</td>\n",
              "      <td>NaN</td>\n",
              "      <td>NaN</td>\n",
              "      <td>NaN</td>\n",
              "      <td>NaN</td>\n",
              "      <td>NaN</td>\n",
              "      <td>NaN</td>\n",
              "      <td>NaN</td>\n",
              "      <td>NaN</td>\n",
              "      <td>NaN</td>\n",
              "      <td>NaN</td>\n",
              "      <td>NaN</td>\n",
              "      <td>NaN</td>\n",
              "      <td>NaN</td>\n",
              "      <td>NaN</td>\n",
              "      <td>NaN</td>\n",
              "      <td>...</td>\n",
              "      <td>NaN</td>\n",
              "      <td>NaN</td>\n",
              "      <td>0.333333</td>\n",
              "      <td>-0.230769</td>\n",
              "      <td>-0.132075</td>\n",
              "      <td>-0.59322</td>\n",
              "      <td>0.535714</td>\n",
              "      <td>0.578947</td>\n",
              "      <td>0.333333</td>\n",
              "      <td>-0.230769</td>\n",
              "      <td>-0.132075</td>\n",
              "      <td>-0.586207</td>\n",
              "      <td>0.535714</td>\n",
              "      <td>0.578947</td>\n",
              "      <td>0.443299</td>\n",
              "      <td>0.0</td>\n",
              "      <td>-0.025641</td>\n",
              "      <td>-0.5</td>\n",
              "      <td>0.714286</td>\n",
              "      <td>0.838384</td>\n",
              "      <td>-0.076923</td>\n",
              "      <td>-0.459459</td>\n",
              "      <td>-0.313433</td>\n",
              "      <td>-0.636364</td>\n",
              "      <td>0.246377</td>\n",
              "      <td>0.578947</td>\n",
              "      <td>-1.0</td>\n",
              "      <td>-1.0</td>\n",
              "      <td>-1.0</td>\n",
              "      <td>-1.0</td>\n",
              "      <td>-1.0</td>\n",
              "      <td>-1.0</td>\n",
              "      <td>-1.0</td>\n",
              "      <td>-1.0</td>\n",
              "      <td>-1.0</td>\n",
              "      <td>-1.0</td>\n",
              "      <td>-1.0</td>\n",
              "      <td>-1.0</td>\n",
              "      <td>2-4</td>\n",
              "      <td>0</td>\n",
              "    </tr>\n",
              "    <tr>\n",
              "      <th>2</th>\n",
              "      <td>0</td>\n",
              "      <td>1</td>\n",
              "      <td>60th</td>\n",
              "      <td>0</td>\n",
              "      <td>0.0</td>\n",
              "      <td>0.0</td>\n",
              "      <td>0.0</td>\n",
              "      <td>0.0</td>\n",
              "      <td>1.0</td>\n",
              "      <td>1.0</td>\n",
              "      <td>0.0</td>\n",
              "      <td>0.0</td>\n",
              "      <td>1.0</td>\n",
              "      <td>0.605263</td>\n",
              "      <td>0.605263</td>\n",
              "      <td>0.605263</td>\n",
              "      <td>0.605263</td>\n",
              "      <td>-1.0</td>\n",
              "      <td>-1.0</td>\n",
              "      <td>-1.0</td>\n",
              "      <td>-1.0</td>\n",
              "      <td>-1.0</td>\n",
              "      <td>-1.0</td>\n",
              "      <td>-1.0</td>\n",
              "      <td>-1.0</td>\n",
              "      <td>-1.0</td>\n",
              "      <td>-1.0</td>\n",
              "      <td>-1.0</td>\n",
              "      <td>-0.317073</td>\n",
              "      <td>-0.317073</td>\n",
              "      <td>-0.317073</td>\n",
              "      <td>-0.317073</td>\n",
              "      <td>-1.0</td>\n",
              "      <td>-0.317073</td>\n",
              "      <td>-0.317073</td>\n",
              "      <td>-0.317073</td>\n",
              "      <td>-0.317073</td>\n",
              "      <td>-1.0</td>\n",
              "      <td>-0.93895</td>\n",
              "      <td>-0.93895</td>\n",
              "      <td>...</td>\n",
              "      <td>-0.994912</td>\n",
              "      <td>-1.0</td>\n",
              "      <td>NaN</td>\n",
              "      <td>NaN</td>\n",
              "      <td>NaN</td>\n",
              "      <td>NaN</td>\n",
              "      <td>NaN</td>\n",
              "      <td>NaN</td>\n",
              "      <td>NaN</td>\n",
              "      <td>NaN</td>\n",
              "      <td>NaN</td>\n",
              "      <td>NaN</td>\n",
              "      <td>NaN</td>\n",
              "      <td>NaN</td>\n",
              "      <td>NaN</td>\n",
              "      <td>NaN</td>\n",
              "      <td>NaN</td>\n",
              "      <td>NaN</td>\n",
              "      <td>NaN</td>\n",
              "      <td>NaN</td>\n",
              "      <td>NaN</td>\n",
              "      <td>NaN</td>\n",
              "      <td>NaN</td>\n",
              "      <td>NaN</td>\n",
              "      <td>NaN</td>\n",
              "      <td>NaN</td>\n",
              "      <td>NaN</td>\n",
              "      <td>NaN</td>\n",
              "      <td>NaN</td>\n",
              "      <td>NaN</td>\n",
              "      <td>NaN</td>\n",
              "      <td>NaN</td>\n",
              "      <td>NaN</td>\n",
              "      <td>NaN</td>\n",
              "      <td>NaN</td>\n",
              "      <td>NaN</td>\n",
              "      <td>NaN</td>\n",
              "      <td>NaN</td>\n",
              "      <td>4-6</td>\n",
              "      <td>0</td>\n",
              "    </tr>\n",
              "  </tbody>\n",
              "</table>\n",
              "<p>3 rows × 231 columns</p>\n",
              "</div>"
            ],
            "text/plain": [
              "   PATIENT_VISIT_IDENTIFIER  AGE_ABOVE65  ... WINDOW  ICU\n",
              "0                         0            1  ...    0-2    0\n",
              "1                         0            1  ...    2-4    0\n",
              "2                         0            1  ...    4-6    0\n",
              "\n",
              "[3 rows x 231 columns]"
            ]
          },
          "metadata": {
            "tags": []
          },
          "execution_count": 7
        }
      ]
    },
    {
      "cell_type": "markdown",
      "metadata": {
        "id": "RqrzptD9FD9e"
      },
      "source": [
        "Acima, imprimimos apenas as 3 primeiras linhas do DataFrame. A quantidade de colunas é grande e podemos analisar isso ou pouco melhor abaixo"
      ]
    },
    {
      "cell_type": "code",
      "metadata": {
        "colab": {
          "base_uri": "https://localhost:8080/"
        },
        "id": "1tHp1mv7FP8X",
        "outputId": "2192bae3-515f-4a8d-ecb4-2bec8c072183"
      },
      "source": [
        "resume_dataframe(dados)"
      ],
      "execution_count": 144,
      "outputs": [
        {
          "output_type": "stream",
          "text": [
            "################ RESUMO BÁSICO ####################\n",
            "\n",
            "Quantidade de instâncias: 1925 (linhas)\n",
            "Quantidade de Atributos: 231 (colunas)\n",
            "\n",
            "Possui dados NaN ? True\n",
            "Quantidade de NaN totais: 223863\n",
            "\n",
            "Tipos de  dados que temos :\n",
            "[dtype('float64'), dtype('int64'), dtype('O')]\n",
            "\n",
            "##################################################\n",
            "\n"
          ],
          "name": "stdout"
        }
      ]
    },
    {
      "cell_type": "markdown",
      "metadata": {
        "id": "r9WIp8xxFR0g"
      },
      "source": [
        "Temos **1925** linhas e **231** colunas no total. Nosso dataframe `dados` (nome que darei para o conjunto de dados original), possui valores NaN em um total de **22363** células. Isso significa que precisaremos tratar estes dados e buscar tratar estes valores ausentes para quando treinado, não termos problemas de desemepenho no modelo. Contudo, neste Notebook, nos antentaremos apenas em explorar os dados. Por fim, temos uma lista de informções que nos indicam que temos  dados do tipo **Inteiro** (*int64*), tipo **Object** (*o*) e tipo **Real** ou **Float**, em inglês (*float64*).\r\n",
        "Para fins de conhecimento temos que para tipo **Object**:\r\n",
        ">O Object tipo de dados pode apontar para dados de qualquer tipo de dados, incluindo qualquer instância de objeto que seu aplicativo reconhece. ([Link para Leitura](https://docs.microsoft.com/pt-br/dotnet/visual-basic/language-reference/data-types/object-data-type#:~:text=O%20Object%20tipo%20de%20dados,objeto%20que%20seu%20aplicativo%20reconhece.))"
      ]
    },
    {
      "cell_type": "markdown",
      "metadata": {
        "id": "sHmUi1pqHe5Z"
      },
      "source": [
        "##Compreendendo um pouco mais sobre Not a Number - NaN"
      ]
    },
    {
      "cell_type": "markdown",
      "metadata": {
        "id": "WUcKip_3Hot2"
      },
      "source": [
        "**Not a Number** ou apenas **NaN** é definido como:\r\n",
        ">  Um valor ou símbolo usado nas linguagens de programação para representar um valor numérico indefinido ou irrepresentável. Seu uso sistemático foi introduzido pelo padrão IEEE 754 em 1985, junto com a representação de outras quantidade não finitas tais como infinitos ([link para leitura](https://pt.wikipedia.org/wiki/NaN))\r\n",
        "\r\n",
        "Na análise de dados, NaN devem ser tratados com muita atenção. Dados Ausentes, conforme lista Matt Harrison, autor de *Machine Learning - Guia de Referência Rápida*, podem ser lidados da seguinte forma:\r\n",
        "* Removendo qualquer linha que contenha dados ausentes;\r\n",
        "* Removendo qualquer coluna que contenha dados ausentes;\r\n",
        "* Imputar dados aos valores ausentes;\r\n",
        "* Criar uma coluna  para informar que os dados estavam ausentes.\r\n",
        "\r\n",
        "Contudo, em cada caso, devemos avaliar bem a forma como iremos tratar esse tipo de dados. Apenas descartar, por exemplo, todas as linhas com dados ausentes, pode reduzir drasticamente nosso dataframe, e isso pode impactar negativamente o desempenho do nosso modelo.<br>\r\n",
        "Vamos então explorar estes dados NaN, e ver qual a sua porcentagem em relação as colunas."
      ]
    },
    {
      "cell_type": "code",
      "metadata": {
        "id": "kpc8awsU_ihn"
      },
      "source": [
        "# msno.matrix(dados.sample(500),figsize=(15,8)).get_figure();"
      ],
      "execution_count": 9,
      "outputs": []
    },
    {
      "cell_type": "code",
      "metadata": {
        "colab": {
          "base_uri": "https://localhost:8080/",
          "height": 605
        },
        "id": "FuJn-_ym_Ru2",
        "outputId": "3c52765a-35c8-4b7c-c9f9-028fc6de3587"
      },
      "source": [
        "grafico_dados_faltantes = msno.bar(dados.sample(500))\r\n",
        "plt.title(\" Figura 1 - Porcentagem de dados ausentes nas colunas - SÍRIO LIBANÊS DATASET\",\r\n",
        "          size=18,weight='bold')\r\n",
        "\r\n",
        "grafico_dados_faltantes.get_figure();"
      ],
      "execution_count": 10,
      "outputs": [
        {
          "output_type": "display_data",
          "data": {
            "image/png": "[encoded data removed]",
            "text/plain": [
              "<Figure size 1728x720 with 2 Axes>"
            ]
          },
          "metadata": {
            "tags": [],
            "needs_background": "light"
          }
        }
      ]
    },
    {
      "cell_type": "markdown",
      "metadata": {
        "id": "pAjDE_wPA3XJ"
      },
      "source": [
        "Com a ajuda da biblioteca Missingno, podemos analisar nosso conjunto de dados de forma global e ver como todas as colunas se comportam em relação a quantidade de dados ausentes. Abaixo temos uma visão geral que mostra que grande parte das colunas apresentam apenas 40% de dados, sendo o resto em sua maioria, valores NaN."
      ]
    },
    {
      "cell_type": "markdown",
      "metadata": {
        "id": "0ufWHGVeODNm"
      },
      "source": [
        "Tendo essas informações já temos uma boa noção de que simplesmente descartar linhas e/ou colunas com dados faltantes não será uma boa ideia. O ideal será imputar valores neste caso. Isso abordamos em outro momento. Continuemos explorando nossos dados. Vejamos quais colunas possuem dados faltantes:"
      ]
    },
    {
      "cell_type": "code",
      "metadata": {
        "colab": {
          "base_uri": "https://localhost:8080/"
        },
        "id": "9un4ORskq86c",
        "outputId": "74ae1536-e433-46b3-ddd9-13ff6c21d2dc"
      },
      "source": [
        "print(f\"Quantidade de Colunas com dados faltantes: {dados.isna().any().sum()}\")"
      ],
      "execution_count": 11,
      "outputs": [
        {
          "output_type": "stream",
          "text": [
            "Quantidade de Colunas com dados faltantes: 225\n"
          ],
          "name": "stdout"
        }
      ]
    },
    {
      "cell_type": "markdown",
      "metadata": {
        "id": "jiKtmbj5rs1s"
      },
      "source": [
        "Abaixo, vemos mais especificamente quais são essas colunas"
      ]
    },
    {
      "cell_type": "code",
      "metadata": {
        "colab": {
          "base_uri": "https://localhost:8080/"
        },
        "id": "33xUMf34rxaE",
        "outputId": "16f5f102-5ab9-47b7-9d59-8ab1453fd0ef"
      },
      "source": [
        "faltantes = dict(dados.isnull().any())\r\n",
        "col_faltantes = []\r\n",
        "\r\n",
        "for  i in faltantes.items():\r\n",
        "  if i[1] == True:\r\n",
        "    col_faltantes.append(i[0])\r\n",
        "\r\n",
        "col_faltantes"
      ],
      "execution_count": 12,
      "outputs": [
        {
          "output_type": "execute_result",
          "data": {
            "text/plain": [
              "['DISEASE GROUPING 1',\n",
              " 'DISEASE GROUPING 2',\n",
              " 'DISEASE GROUPING 3',\n",
              " 'DISEASE GROUPING 4',\n",
              " 'DISEASE GROUPING 5',\n",
              " 'DISEASE GROUPING 6',\n",
              " 'HTN',\n",
              " 'IMMUNOCOMPROMISED',\n",
              " 'OTHER',\n",
              " 'ALBUMIN_MEDIAN',\n",
              " 'ALBUMIN_MEAN',\n",
              " 'ALBUMIN_MIN',\n",
              " 'ALBUMIN_MAX',\n",
              " 'ALBUMIN_DIFF',\n",
              " 'BE_ARTERIAL_MEDIAN',\n",
              " 'BE_ARTERIAL_MEAN',\n",
              " 'BE_ARTERIAL_MIN',\n",
              " 'BE_ARTERIAL_MAX',\n",
              " 'BE_ARTERIAL_DIFF',\n",
              " 'BE_VENOUS_MEDIAN',\n",
              " 'BE_VENOUS_MEAN',\n",
              " 'BE_VENOUS_MIN',\n",
              " 'BE_VENOUS_MAX',\n",
              " 'BE_VENOUS_DIFF',\n",
              " 'BIC_ARTERIAL_MEDIAN',\n",
              " 'BIC_ARTERIAL_MEAN',\n",
              " 'BIC_ARTERIAL_MIN',\n",
              " 'BIC_ARTERIAL_MAX',\n",
              " 'BIC_ARTERIAL_DIFF',\n",
              " 'BIC_VENOUS_MEDIAN',\n",
              " 'BIC_VENOUS_MEAN',\n",
              " 'BIC_VENOUS_MIN',\n",
              " 'BIC_VENOUS_MAX',\n",
              " 'BIC_VENOUS_DIFF',\n",
              " 'BILLIRUBIN_MEDIAN',\n",
              " 'BILLIRUBIN_MEAN',\n",
              " 'BILLIRUBIN_MIN',\n",
              " 'BILLIRUBIN_MAX',\n",
              " 'BILLIRUBIN_DIFF',\n",
              " 'BLAST_MEDIAN',\n",
              " 'BLAST_MEAN',\n",
              " 'BLAST_MIN',\n",
              " 'BLAST_MAX',\n",
              " 'BLAST_DIFF',\n",
              " 'CALCIUM_MEDIAN',\n",
              " 'CALCIUM_MEAN',\n",
              " 'CALCIUM_MIN',\n",
              " 'CALCIUM_MAX',\n",
              " 'CALCIUM_DIFF',\n",
              " 'CREATININ_MEDIAN',\n",
              " 'CREATININ_MEAN',\n",
              " 'CREATININ_MIN',\n",
              " 'CREATININ_MAX',\n",
              " 'CREATININ_DIFF',\n",
              " 'FFA_MEDIAN',\n",
              " 'FFA_MEAN',\n",
              " 'FFA_MIN',\n",
              " 'FFA_MAX',\n",
              " 'FFA_DIFF',\n",
              " 'GGT_MEDIAN',\n",
              " 'GGT_MEAN',\n",
              " 'GGT_MIN',\n",
              " 'GGT_MAX',\n",
              " 'GGT_DIFF',\n",
              " 'GLUCOSE_MEDIAN',\n",
              " 'GLUCOSE_MEAN',\n",
              " 'GLUCOSE_MIN',\n",
              " 'GLUCOSE_MAX',\n",
              " 'GLUCOSE_DIFF',\n",
              " 'HEMATOCRITE_MEDIAN',\n",
              " 'HEMATOCRITE_MEAN',\n",
              " 'HEMATOCRITE_MIN',\n",
              " 'HEMATOCRITE_MAX',\n",
              " 'HEMATOCRITE_DIFF',\n",
              " 'HEMOGLOBIN_MEDIAN',\n",
              " 'HEMOGLOBIN_MEAN',\n",
              " 'HEMOGLOBIN_MIN',\n",
              " 'HEMOGLOBIN_MAX',\n",
              " 'HEMOGLOBIN_DIFF',\n",
              " 'INR_MEDIAN',\n",
              " 'INR_MEAN',\n",
              " 'INR_MIN',\n",
              " 'INR_MAX',\n",
              " 'INR_DIFF',\n",
              " 'LACTATE_MEDIAN',\n",
              " 'LACTATE_MEAN',\n",
              " 'LACTATE_MIN',\n",
              " 'LACTATE_MAX',\n",
              " 'LACTATE_DIFF',\n",
              " 'LEUKOCYTES_MEDIAN',\n",
              " 'LEUKOCYTES_MEAN',\n",
              " 'LEUKOCYTES_MIN',\n",
              " 'LEUKOCYTES_MAX',\n",
              " 'LEUKOCYTES_DIFF',\n",
              " 'LINFOCITOS_MEDIAN',\n",
              " 'LINFOCITOS_MEAN',\n",
              " 'LINFOCITOS_MIN',\n",
              " 'LINFOCITOS_MAX',\n",
              " 'LINFOCITOS_DIFF',\n",
              " 'NEUTROPHILES_MEDIAN',\n",
              " 'NEUTROPHILES_MEAN',\n",
              " 'NEUTROPHILES_MIN',\n",
              " 'NEUTROPHILES_MAX',\n",
              " 'NEUTROPHILES_DIFF',\n",
              " 'P02_ARTERIAL_MEDIAN',\n",
              " 'P02_ARTERIAL_MEAN',\n",
              " 'P02_ARTERIAL_MIN',\n",
              " 'P02_ARTERIAL_MAX',\n",
              " 'P02_ARTERIAL_DIFF',\n",
              " 'P02_VENOUS_MEDIAN',\n",
              " 'P02_VENOUS_MEAN',\n",
              " 'P02_VENOUS_MIN',\n",
              " 'P02_VENOUS_MAX',\n",
              " 'P02_VENOUS_DIFF',\n",
              " 'PC02_ARTERIAL_MEDIAN',\n",
              " 'PC02_ARTERIAL_MEAN',\n",
              " 'PC02_ARTERIAL_MIN',\n",
              " 'PC02_ARTERIAL_MAX',\n",
              " 'PC02_ARTERIAL_DIFF',\n",
              " 'PC02_VENOUS_MEDIAN',\n",
              " 'PC02_VENOUS_MEAN',\n",
              " 'PC02_VENOUS_MIN',\n",
              " 'PC02_VENOUS_MAX',\n",
              " 'PC02_VENOUS_DIFF',\n",
              " 'PCR_MEDIAN',\n",
              " 'PCR_MEAN',\n",
              " 'PCR_MIN',\n",
              " 'PCR_MAX',\n",
              " 'PCR_DIFF',\n",
              " 'PH_ARTERIAL_MEDIAN',\n",
              " 'PH_ARTERIAL_MEAN',\n",
              " 'PH_ARTERIAL_MIN',\n",
              " 'PH_ARTERIAL_MAX',\n",
              " 'PH_ARTERIAL_DIFF',\n",
              " 'PH_VENOUS_MEDIAN',\n",
              " 'PH_VENOUS_MEAN',\n",
              " 'PH_VENOUS_MIN',\n",
              " 'PH_VENOUS_MAX',\n",
              " 'PH_VENOUS_DIFF',\n",
              " 'PLATELETS_MEDIAN',\n",
              " 'PLATELETS_MEAN',\n",
              " 'PLATELETS_MIN',\n",
              " 'PLATELETS_MAX',\n",
              " 'PLATELETS_DIFF',\n",
              " 'POTASSIUM_MEDIAN',\n",
              " 'POTASSIUM_MEAN',\n",
              " 'POTASSIUM_MIN',\n",
              " 'POTASSIUM_MAX',\n",
              " 'POTASSIUM_DIFF',\n",
              " 'SAT02_ARTERIAL_MEDIAN',\n",
              " 'SAT02_ARTERIAL_MEAN',\n",
              " 'SAT02_ARTERIAL_MIN',\n",
              " 'SAT02_ARTERIAL_MAX',\n",
              " 'SAT02_ARTERIAL_DIFF',\n",
              " 'SAT02_VENOUS_MEDIAN',\n",
              " 'SAT02_VENOUS_MEAN',\n",
              " 'SAT02_VENOUS_MIN',\n",
              " 'SAT02_VENOUS_MAX',\n",
              " 'SAT02_VENOUS_DIFF',\n",
              " 'SODIUM_MEDIAN',\n",
              " 'SODIUM_MEAN',\n",
              " 'SODIUM_MIN',\n",
              " 'SODIUM_MAX',\n",
              " 'SODIUM_DIFF',\n",
              " 'TGO_MEDIAN',\n",
              " 'TGO_MEAN',\n",
              " 'TGO_MIN',\n",
              " 'TGO_MAX',\n",
              " 'TGO_DIFF',\n",
              " 'TGP_MEDIAN',\n",
              " 'TGP_MEAN',\n",
              " 'TGP_MIN',\n",
              " 'TGP_MAX',\n",
              " 'TGP_DIFF',\n",
              " 'TTPA_MEDIAN',\n",
              " 'TTPA_MEAN',\n",
              " 'TTPA_MIN',\n",
              " 'TTPA_MAX',\n",
              " 'TTPA_DIFF',\n",
              " 'UREA_MEDIAN',\n",
              " 'UREA_MEAN',\n",
              " 'UREA_MIN',\n",
              " 'UREA_MAX',\n",
              " 'UREA_DIFF',\n",
              " 'DIMER_MEDIAN',\n",
              " 'DIMER_MEAN',\n",
              " 'DIMER_MIN',\n",
              " 'DIMER_MAX',\n",
              " 'DIMER_DIFF',\n",
              " 'BLOODPRESSURE_DIASTOLIC_MEAN',\n",
              " 'BLOODPRESSURE_SISTOLIC_MEAN',\n",
              " 'HEART_RATE_MEAN',\n",
              " 'RESPIRATORY_RATE_MEAN',\n",
              " 'TEMPERATURE_MEAN',\n",
              " 'OXYGEN_SATURATION_MEAN',\n",
              " 'BLOODPRESSURE_DIASTOLIC_MEDIAN',\n",
              " 'BLOODPRESSURE_SISTOLIC_MEDIAN',\n",
              " 'HEART_RATE_MEDIAN',\n",
              " 'RESPIRATORY_RATE_MEDIAN',\n",
              " 'TEMPERATURE_MEDIAN',\n",
              " 'OXYGEN_SATURATION_MEDIAN',\n",
              " 'BLOODPRESSURE_DIASTOLIC_MIN',\n",
              " 'BLOODPRESSURE_SISTOLIC_MIN',\n",
              " 'HEART_RATE_MIN',\n",
              " 'RESPIRATORY_RATE_MIN',\n",
              " 'TEMPERATURE_MIN',\n",
              " 'OXYGEN_SATURATION_MIN',\n",
              " 'BLOODPRESSURE_DIASTOLIC_MAX',\n",
              " 'BLOODPRESSURE_SISTOLIC_MAX',\n",
              " 'HEART_RATE_MAX',\n",
              " 'RESPIRATORY_RATE_MAX',\n",
              " 'TEMPERATURE_MAX',\n",
              " 'OXYGEN_SATURATION_MAX',\n",
              " 'BLOODPRESSURE_DIASTOLIC_DIFF',\n",
              " 'BLOODPRESSURE_SISTOLIC_DIFF',\n",
              " 'HEART_RATE_DIFF',\n",
              " 'RESPIRATORY_RATE_DIFF',\n",
              " 'TEMPERATURE_DIFF',\n",
              " 'OXYGEN_SATURATION_DIFF',\n",
              " 'BLOODPRESSURE_DIASTOLIC_DIFF_REL',\n",
              " 'BLOODPRESSURE_SISTOLIC_DIFF_REL',\n",
              " 'HEART_RATE_DIFF_REL',\n",
              " 'RESPIRATORY_RATE_DIFF_REL',\n",
              " 'TEMPERATURE_DIFF_REL',\n",
              " 'OXYGEN_SATURATION_DIFF_REL']"
            ]
          },
          "metadata": {
            "tags": []
          },
          "execution_count": 12
        }
      ]
    },
    {
      "cell_type": "markdown",
      "metadata": {
        "id": "60p6SpVut2aA"
      },
      "source": [
        "São essas, as coluna que estão com dados faltantes e que precisarão ser tratadas."
      ]
    },
    {
      "cell_type": "markdown",
      "metadata": {
        "id": "pHIzsYNDqist"
      },
      "source": [
        "##Período de Admissão de Paciente e Quantidade de Pacientes que necessitam de UTI"
      ]
    },
    {
      "cell_type": "markdown",
      "metadata": {
        "id": "o1DKmebiOf9d"
      },
      "source": [
        "Uma coisa muito importante para o andamento do projeto é entender sobre as chamadas \"janelas\" ou \"windows\" que o dataset possui. Essa coluna possui informações referentes ao tempo que o paciente deu entrada no hospital. Quanto mais cedo nosso modelo conseguir prever, melhor será para os profissionais de saúde e equipe médica em relação ao tratamento, quanto para o paciente, o principal beneficiado por um atendimento e tratamento rápido que pode lhe custar a vida se negado. Vejamos um pouco sobre essa coluna e o que temos dela no geral"
      ]
    },
    {
      "cell_type": "code",
      "metadata": {
        "colab": {
          "base_uri": "https://localhost:8080/",
          "height": 197
        },
        "id": "RbYfkyEhANL0",
        "outputId": "45f4d20a-9d49-4721-d944-ac3944a3b4d6"
      },
      "source": [
        "intervalo_admissao = {\"0-2\": \"Até 2h\",\"2-4\":\"De 2h até 4h\",\"4-6\": \"De 4h até 6h\",\t\r\n",
        "                      \"6-12\": \"De 6h até 12h\",\"ABOVE_12\":\"Acima de 12h\"}\r\n",
        "                      \r\n",
        "formated_table(dados['WINDOW'],dicionario=intervalo_admissao)"
      ],
      "execution_count": 13,
      "outputs": [
        {
          "output_type": "execute_result",
          "data": {
            "text/html": [
              "<div>\n",
              "<style scoped>\n",
              "    .dataframe tbody tr th:only-of-type {\n",
              "        vertical-align: middle;\n",
              "    }\n",
              "\n",
              "    .dataframe tbody tr th {\n",
              "        vertical-align: top;\n",
              "    }\n",
              "\n",
              "    .dataframe thead th {\n",
              "        text-align: right;\n",
              "    }\n",
              "</style>\n",
              "<table border=\"1\" class=\"dataframe\">\n",
              "  <thead>\n",
              "    <tr style=\"text-align: right;\">\n",
              "      <th></th>\n",
              "      <th>Frequencia</th>\n",
              "      <th>Porcentagem</th>\n",
              "    </tr>\n",
              "  </thead>\n",
              "  <tbody>\n",
              "    <tr>\n",
              "      <th>De 6h até 12h</th>\n",
              "      <td>385</td>\n",
              "      <td>20.0</td>\n",
              "    </tr>\n",
              "    <tr>\n",
              "      <th>De 4h até 6h</th>\n",
              "      <td>385</td>\n",
              "      <td>20.0</td>\n",
              "    </tr>\n",
              "    <tr>\n",
              "      <th>Acima de 12h</th>\n",
              "      <td>385</td>\n",
              "      <td>20.0</td>\n",
              "    </tr>\n",
              "    <tr>\n",
              "      <th>De 2h até 4h</th>\n",
              "      <td>385</td>\n",
              "      <td>20.0</td>\n",
              "    </tr>\n",
              "    <tr>\n",
              "      <th>Até 2h</th>\n",
              "      <td>385</td>\n",
              "      <td>20.0</td>\n",
              "    </tr>\n",
              "  </tbody>\n",
              "</table>\n",
              "</div>"
            ],
            "text/plain": [
              "               Frequencia  Porcentagem\n",
              "De 6h até 12h         385         20.0\n",
              "De 4h até 6h          385         20.0\n",
              "Acima de 12h          385         20.0\n",
              "De 2h até 4h          385         20.0\n",
              "Até 2h                385         20.0"
            ]
          },
          "metadata": {
            "tags": []
          },
          "execution_count": 13
        }
      ]
    },
    {
      "cell_type": "markdown",
      "metadata": {
        "id": "2PKU5mt5UvLb"
      },
      "source": [
        "A distribuição dos dados para a coluna `WINDOW` apresenta-se precisamente dividida. Possuímos os cenários bem definidos e a partir deles, podemos buscar treinar nossos modelos em cenários variados."
      ]
    },
    {
      "cell_type": "markdown",
      "metadata": {
        "id": "XlmXhPzdY3h7"
      },
      "source": [
        "Contudo, outro ponto importante é entender como ficou a necessidade internação na UTI por horário de Admissão. A pergunta é:\r\n",
        "**Dos Pacientes que foram admitidos em um intervalo X, quantos porcento precisaram de UTI?**"
      ]
    },
    {
      "cell_type": "markdown",
      "metadata": {
        "id": "CL885-2QikSJ"
      },
      "source": [
        "Primeiros, vejamos a coluna `UCI`. O que temos nela são os dados de pacientes que vão para UTI. os valores usados são 0 e 1."
      ]
    },
    {
      "cell_type": "code",
      "metadata": {
        "colab": {
          "base_uri": "https://localhost:8080/",
          "height": 107
        },
        "id": "uRjhwHmoivbW",
        "outputId": "6c89acf2-e2d4-4b32-8a16-46c4426cd1dd"
      },
      "source": [
        "pacientes_uti_freq_porcentagem = formated_table(dados['ICU'])\r\n",
        "pacientes_uti_freq_porcentagem"
      ],
      "execution_count": 14,
      "outputs": [
        {
          "output_type": "execute_result",
          "data": {
            "text/html": [
              "<div>\n",
              "<style scoped>\n",
              "    .dataframe tbody tr th:only-of-type {\n",
              "        vertical-align: middle;\n",
              "    }\n",
              "\n",
              "    .dataframe tbody tr th {\n",
              "        vertical-align: top;\n",
              "    }\n",
              "\n",
              "    .dataframe thead th {\n",
              "        text-align: right;\n",
              "    }\n",
              "</style>\n",
              "<table border=\"1\" class=\"dataframe\">\n",
              "  <thead>\n",
              "    <tr style=\"text-align: right;\">\n",
              "      <th></th>\n",
              "      <th>Frequencia</th>\n",
              "      <th>Porcentagem</th>\n",
              "    </tr>\n",
              "  </thead>\n",
              "  <tbody>\n",
              "    <tr>\n",
              "      <th>0</th>\n",
              "      <td>1410</td>\n",
              "      <td>73.247</td>\n",
              "    </tr>\n",
              "    <tr>\n",
              "      <th>1</th>\n",
              "      <td>515</td>\n",
              "      <td>26.753</td>\n",
              "    </tr>\n",
              "  </tbody>\n",
              "</table>\n",
              "</div>"
            ],
            "text/plain": [
              "   Frequencia  Porcentagem\n",
              "0        1410       73.247\n",
              "1         515       26.753"
            ]
          },
          "metadata": {
            "tags": []
          },
          "execution_count": 14
        }
      ]
    },
    {
      "cell_type": "markdown",
      "metadata": {
        "id": "5V_8dgH2njQ5"
      },
      "source": [
        "gráficamente temos:"
      ]
    },
    {
      "cell_type": "code",
      "metadata": {
        "colab": {
          "base_uri": "https://localhost:8080/",
          "height": 526
        },
        "id": "8zBGblJcefsY",
        "outputId": "d244f790-bb1e-420d-b079-ccc271bfe96b"
      },
      "source": [
        "grafico_qtd_uti = dados['ICU'].value_counts().plot(kind='bar',figsize=(12,8))\r\n",
        "plt.ylim(0,1600)\r\n",
        "plt.title(\"FIGURA 2 - Quantidade de Pacientes que precisam ou não de UTI\",size=18)\r\n",
        "plt.ylabel(\"Quantidade de Pacientes\",size=18)\r\n",
        "plt.xlabel('Precisa ir para UTI ?',size=18)\r\n",
        "plt.xticks([0,1],[\"Não\",\"Sim\"],rotation = 0)\r\n",
        "\r\n",
        "plt.show()"
      ],
      "execution_count": 15,
      "outputs": [
        {
          "output_type": "display_data",
          "data": {
            "image/png": "[encoded data removed]",
            "text/plain": [
              "<Figure size 864x576 with 1 Axes>"
            ]
          },
          "metadata": {
            "tags": [],
            "needs_background": "light"
          }
        }
      ]
    },
    {
      "cell_type": "markdown",
      "metadata": {
        "id": "rnvooc_ki0jh"
      },
      "source": [
        "Temos uma quantidade maior de valores iguais a zero. Partiremos do pontos então que os valores iguais a zero são os pacientes que não precisam ser internados, e iguais a 1, como os pacientes que foram internados. Resumidamente, mais de **73%** dos pacientes não precisaram de UTI, enquanto cerca de **26.75 %** precisaram."
      ]
    },
    {
      "cell_type": "markdown",
      "metadata": {
        "id": "aaoPktabjQJ5"
      },
      "source": [
        "Voltando então para a análise das janelas de admissão de paciente."
      ]
    },
    {
      "cell_type": "code",
      "metadata": {
        "colab": {
          "base_uri": "https://localhost:8080/",
          "height": 227
        },
        "id": "bBThFb_RWLgQ",
        "outputId": "49e5514c-32ae-4fd4-d08b-f47b7663d099"
      },
      "source": [
        "dicio_uti = {0:\"nao_precisa_de_uti\",1:\"precisa_de_uti\"}\r\n",
        "\r\n",
        "\r\n",
        "janela_por_uti = crosstab_data(dados['WINDOW'],dados['ICU'],\r\n",
        "                               normal='index',\r\n",
        "                               dicio1=intervalo_admissao,\r\n",
        "                               dicio2= dicio_uti)\r\n",
        "janela_por_uti"
      ],
      "execution_count": 16,
      "outputs": [
        {
          "output_type": "execute_result",
          "data": {
            "text/html": [
              "<div>\n",
              "<style scoped>\n",
              "    .dataframe tbody tr th:only-of-type {\n",
              "        vertical-align: middle;\n",
              "    }\n",
              "\n",
              "    .dataframe tbody tr th {\n",
              "        vertical-align: top;\n",
              "    }\n",
              "\n",
              "    .dataframe thead th {\n",
              "        text-align: right;\n",
              "    }\n",
              "</style>\n",
              "<table border=\"1\" class=\"dataframe\">\n",
              "  <thead>\n",
              "    <tr style=\"text-align: right;\">\n",
              "      <th>ICU</th>\n",
              "      <th>nao_precisa_de_uti</th>\n",
              "      <th>precisa_de_uti</th>\n",
              "    </tr>\n",
              "    <tr>\n",
              "      <th>WINDOW</th>\n",
              "      <th></th>\n",
              "      <th></th>\n",
              "    </tr>\n",
              "  </thead>\n",
              "  <tbody>\n",
              "    <tr>\n",
              "      <th>Até 2h</th>\n",
              "      <td>91.69</td>\n",
              "      <td>8.31</td>\n",
              "    </tr>\n",
              "    <tr>\n",
              "      <th>De 2h até 4h</th>\n",
              "      <td>84.68</td>\n",
              "      <td>15.32</td>\n",
              "    </tr>\n",
              "    <tr>\n",
              "      <th>De 4h até 6h</th>\n",
              "      <td>74.29</td>\n",
              "      <td>25.71</td>\n",
              "    </tr>\n",
              "    <tr>\n",
              "      <th>De 6h até 12h</th>\n",
              "      <td>66.23</td>\n",
              "      <td>33.77</td>\n",
              "    </tr>\n",
              "    <tr>\n",
              "      <th>Acima de 12h</th>\n",
              "      <td>49.35</td>\n",
              "      <td>50.65</td>\n",
              "    </tr>\n",
              "  </tbody>\n",
              "</table>\n",
              "</div>"
            ],
            "text/plain": [
              "ICU            nao_precisa_de_uti  precisa_de_uti\n",
              "WINDOW                                           \n",
              "Até 2h                      91.69            8.31\n",
              "De 2h até 4h                84.68           15.32\n",
              "De 4h até 6h                74.29           25.71\n",
              "De 6h até 12h               66.23           33.77\n",
              "Acima de 12h                49.35           50.65"
            ]
          },
          "metadata": {
            "tags": []
          },
          "execution_count": 16
        }
      ]
    },
    {
      "cell_type": "markdown",
      "metadata": {
        "id": "Wn83z_mabUlK"
      },
      "source": [
        "Acima temos que: **Dos pacientes admitidos em uma janela de até 2 horas, 91.69% não precisou ser internada em UTI's**. Contudo, se formos analisando com o passar das horas, vai ficando claro que esse quadro vai mudando. **Quanto mais tarde os pacientes foram admitidos, mais foi crescendo a necessidade de ser internado na UTI**, até que chegamos ao quadro de pacientes que foram admitidos em uma janela **acima de 12 horas**. Nela, **mais de 50%** dos pacientes precisaram ir para UTI. Podemos representar esse comportamento em um gráfico para ficar mais claro."
      ]
    },
    {
      "cell_type": "code",
      "metadata": {
        "colab": {
          "base_uri": "https://localhost:8080/",
          "height": 473
        },
        "id": "2aDUN-zkWPzK",
        "outputId": "8b0252d5-62a2-4c21-bce8-1958ed639eda"
      },
      "source": [
        "fig = janela_por_uti.plot(kind='bar', figsize=(16,7),colormap = 'Dark2')\r\n",
        "fig.yaxis.set_major_formatter(ticker.StrMethodFormatter(\"{x:,.2f} %\"))\r\n",
        "plt.title(\"Figura 3 - Janela de Admissão X Necessidade de Internação na UTI\",size=18)\r\n",
        "fig.set_ylabel(\"Porcentagem (%)\",size=18)\r\n",
        "fig.set_xlabel(\"Intervalos de Admissão\",size=18)\r\n",
        "plt.xticks(rotation=0)\r\n",
        "plt.ylim(0,100)\r\n",
        "\r\n",
        "plt.legend(title='UTI',labels=['Não Precisa de UTI','Precisa de UTI'])\r\n",
        "\r\n",
        "fig;\r\n"
      ],
      "execution_count": 17,
      "outputs": [
        {
          "output_type": "display_data",
          "data": {
            "image/png": "[encoded data removed]",
            "text/plain": [
              "<Figure size 1152x504 with 1 Axes>"
            ]
          },
          "metadata": {
            "tags": [],
            "needs_background": "light"
          }
        }
      ]
    },
    {
      "cell_type": "markdown",
      "metadata": {
        "id": "0ka1bRgqiLFh"
      },
      "source": [
        "Acima, temos de forma mais destacada o comportamento apresentado por pacientes com janela de admissões mais tardias. A necessidade de internação em UTI vai aumentando."
      ]
    },
    {
      "cell_type": "markdown",
      "metadata": {
        "id": "i_DVvch3otfJ"
      },
      "source": [
        "Agora vejamos a distribuição das pessoas internadas ou não em relação ao tempo de admissão existente."
      ]
    },
    {
      "cell_type": "code",
      "metadata": {
        "colab": {
          "base_uri": "https://localhost:8080/",
          "height": 227
        },
        "id": "9_M98AzBW80j",
        "outputId": "0431a71c-9895-4e9f-86e2-78540351079a"
      },
      "source": [
        "uti_por_janelas = crosstab_data(dados['WINDOW'],dados['ICU'],\r\n",
        "                               normal='columns',\r\n",
        "                               dicio1=intervalo_admissao,\r\n",
        "                               dicio2= dicio_uti)\r\n",
        "uti_por_janelas"
      ],
      "execution_count": 18,
      "outputs": [
        {
          "output_type": "execute_result",
          "data": {
            "text/html": [
              "<div>\n",
              "<style scoped>\n",
              "    .dataframe tbody tr th:only-of-type {\n",
              "        vertical-align: middle;\n",
              "    }\n",
              "\n",
              "    .dataframe tbody tr th {\n",
              "        vertical-align: top;\n",
              "    }\n",
              "\n",
              "    .dataframe thead th {\n",
              "        text-align: right;\n",
              "    }\n",
              "</style>\n",
              "<table border=\"1\" class=\"dataframe\">\n",
              "  <thead>\n",
              "    <tr style=\"text-align: right;\">\n",
              "      <th>ICU</th>\n",
              "      <th>nao_precisa_de_uti</th>\n",
              "      <th>precisa_de_uti</th>\n",
              "    </tr>\n",
              "    <tr>\n",
              "      <th>WINDOW</th>\n",
              "      <th></th>\n",
              "      <th></th>\n",
              "    </tr>\n",
              "  </thead>\n",
              "  <tbody>\n",
              "    <tr>\n",
              "      <th>Até 2h</th>\n",
              "      <td>25.04</td>\n",
              "      <td>6.21</td>\n",
              "    </tr>\n",
              "    <tr>\n",
              "      <th>De 2h até 4h</th>\n",
              "      <td>23.12</td>\n",
              "      <td>11.46</td>\n",
              "    </tr>\n",
              "    <tr>\n",
              "      <th>De 4h até 6h</th>\n",
              "      <td>20.28</td>\n",
              "      <td>19.22</td>\n",
              "    </tr>\n",
              "    <tr>\n",
              "      <th>De 6h até 12h</th>\n",
              "      <td>18.09</td>\n",
              "      <td>25.24</td>\n",
              "    </tr>\n",
              "    <tr>\n",
              "      <th>Acima de 12h</th>\n",
              "      <td>13.48</td>\n",
              "      <td>37.86</td>\n",
              "    </tr>\n",
              "  </tbody>\n",
              "</table>\n",
              "</div>"
            ],
            "text/plain": [
              "ICU            nao_precisa_de_uti  precisa_de_uti\n",
              "WINDOW                                           \n",
              "Até 2h                      25.04            6.21\n",
              "De 2h até 4h                23.12           11.46\n",
              "De 4h até 6h                20.28           19.22\n",
              "De 6h até 12h               18.09           25.24\n",
              "Acima de 12h                13.48           37.86"
            ]
          },
          "metadata": {
            "tags": []
          },
          "execution_count": 18
        }
      ]
    },
    {
      "cell_type": "markdown",
      "metadata": {
        "id": "RNyCQ8tto333"
      },
      "source": [
        "temos que mais 37 % das pessoas que estão na UTI são do grupo de admissão acima de 12 horas."
      ]
    },
    {
      "cell_type": "markdown",
      "metadata": {
        "id": "yKoJxCamqSR4"
      },
      "source": [
        "Continuando na exploração, temos a coluna `AGE_PERCENTIL`, que separa os pacientes em grupos de idade. Vejamos como ela está distribuida no dataset, assim como sua frequência e como ela se relaciona com outros dados."
      ]
    },
    {
      "cell_type": "code",
      "metadata": {
        "colab": {
          "base_uri": "https://localhost:8080/",
          "height": 347
        },
        "id": "kAIaCX9fe9W1",
        "outputId": "225df42d-00c7-4e6b-a4f7-f2ef0077eb29"
      },
      "source": [
        "idades_percentil = formated_table(dados['AGE_PERCENTIL'])\r\n",
        "idades_percentil"
      ],
      "execution_count": 19,
      "outputs": [
        {
          "output_type": "execute_result",
          "data": {
            "text/html": [
              "<div>\n",
              "<style scoped>\n",
              "    .dataframe tbody tr th:only-of-type {\n",
              "        vertical-align: middle;\n",
              "    }\n",
              "\n",
              "    .dataframe tbody tr th {\n",
              "        vertical-align: top;\n",
              "    }\n",
              "\n",
              "    .dataframe thead th {\n",
              "        text-align: right;\n",
              "    }\n",
              "</style>\n",
              "<table border=\"1\" class=\"dataframe\">\n",
              "  <thead>\n",
              "    <tr style=\"text-align: right;\">\n",
              "      <th></th>\n",
              "      <th>Frequencia</th>\n",
              "      <th>Porcentagem</th>\n",
              "    </tr>\n",
              "  </thead>\n",
              "  <tbody>\n",
              "    <tr>\n",
              "      <th>20th</th>\n",
              "      <td>215</td>\n",
              "      <td>11.169</td>\n",
              "    </tr>\n",
              "    <tr>\n",
              "      <th>10th</th>\n",
              "      <td>205</td>\n",
              "      <td>10.649</td>\n",
              "    </tr>\n",
              "    <tr>\n",
              "      <th>30th</th>\n",
              "      <td>205</td>\n",
              "      <td>10.649</td>\n",
              "    </tr>\n",
              "    <tr>\n",
              "      <th>40th</th>\n",
              "      <td>200</td>\n",
              "      <td>10.390</td>\n",
              "    </tr>\n",
              "    <tr>\n",
              "      <th>70th</th>\n",
              "      <td>195</td>\n",
              "      <td>10.130</td>\n",
              "    </tr>\n",
              "    <tr>\n",
              "      <th>80th</th>\n",
              "      <td>190</td>\n",
              "      <td>9.870</td>\n",
              "    </tr>\n",
              "    <tr>\n",
              "      <th>50th</th>\n",
              "      <td>190</td>\n",
              "      <td>9.870</td>\n",
              "    </tr>\n",
              "    <tr>\n",
              "      <th>Above 90th</th>\n",
              "      <td>185</td>\n",
              "      <td>9.610</td>\n",
              "    </tr>\n",
              "    <tr>\n",
              "      <th>60th</th>\n",
              "      <td>185</td>\n",
              "      <td>9.610</td>\n",
              "    </tr>\n",
              "    <tr>\n",
              "      <th>90th</th>\n",
              "      <td>155</td>\n",
              "      <td>8.052</td>\n",
              "    </tr>\n",
              "  </tbody>\n",
              "</table>\n",
              "</div>"
            ],
            "text/plain": [
              "            Frequencia  Porcentagem\n",
              "20th               215       11.169\n",
              "10th               205       10.649\n",
              "30th               205       10.649\n",
              "40th               200       10.390\n",
              "70th               195       10.130\n",
              "80th               190        9.870\n",
              "50th               190        9.870\n",
              "Above 90th         185        9.610\n",
              "60th               185        9.610\n",
              "90th               155        8.052"
            ]
          },
          "metadata": {
            "tags": []
          },
          "execution_count": 19
        }
      ]
    },
    {
      "cell_type": "markdown",
      "metadata": {
        "id": "puJU6_91uzwd"
      },
      "source": [
        "A maioria das pessoas que compõe o dataset são da faixa etária de  20 anos, seguido de pacientes do grupo de 30 anos."
      ]
    },
    {
      "cell_type": "code",
      "metadata": {
        "colab": {
          "base_uri": "https://localhost:8080/",
          "height": 377
        },
        "id": "lG-vfXbXqWjU",
        "outputId": "67ded17c-dd6e-401f-909a-ac352fc9abfe"
      },
      "source": [
        "crosstab_data(dados['AGE_PERCENTIL'],dados['ICU'],normal='columns',dicio2=dicio_uti)"
      ],
      "execution_count": 20,
      "outputs": [
        {
          "output_type": "execute_result",
          "data": {
            "text/html": [
              "<div>\n",
              "<style scoped>\n",
              "    .dataframe tbody tr th:only-of-type {\n",
              "        vertical-align: middle;\n",
              "    }\n",
              "\n",
              "    .dataframe tbody tr th {\n",
              "        vertical-align: top;\n",
              "    }\n",
              "\n",
              "    .dataframe thead th {\n",
              "        text-align: right;\n",
              "    }\n",
              "</style>\n",
              "<table border=\"1\" class=\"dataframe\">\n",
              "  <thead>\n",
              "    <tr style=\"text-align: right;\">\n",
              "      <th>ICU</th>\n",
              "      <th>nao_precisa_de_uti</th>\n",
              "      <th>precisa_de_uti</th>\n",
              "    </tr>\n",
              "    <tr>\n",
              "      <th>AGE_PERCENTIL</th>\n",
              "      <th></th>\n",
              "      <th></th>\n",
              "    </tr>\n",
              "  </thead>\n",
              "  <tbody>\n",
              "    <tr>\n",
              "      <th>10th</th>\n",
              "      <td>12.70</td>\n",
              "      <td>5.05</td>\n",
              "    </tr>\n",
              "    <tr>\n",
              "      <th>20th</th>\n",
              "      <td>13.19</td>\n",
              "      <td>5.63</td>\n",
              "    </tr>\n",
              "    <tr>\n",
              "      <th>30th</th>\n",
              "      <td>11.35</td>\n",
              "      <td>8.74</td>\n",
              "    </tr>\n",
              "    <tr>\n",
              "      <th>40th</th>\n",
              "      <td>11.77</td>\n",
              "      <td>6.60</td>\n",
              "    </tr>\n",
              "    <tr>\n",
              "      <th>50th</th>\n",
              "      <td>10.28</td>\n",
              "      <td>8.74</td>\n",
              "    </tr>\n",
              "    <tr>\n",
              "      <th>60th</th>\n",
              "      <td>9.08</td>\n",
              "      <td>11.07</td>\n",
              "    </tr>\n",
              "    <tr>\n",
              "      <th>70th</th>\n",
              "      <td>9.01</td>\n",
              "      <td>13.20</td>\n",
              "    </tr>\n",
              "    <tr>\n",
              "      <th>80th</th>\n",
              "      <td>9.08</td>\n",
              "      <td>12.04</td>\n",
              "    </tr>\n",
              "    <tr>\n",
              "      <th>90th</th>\n",
              "      <td>6.52</td>\n",
              "      <td>12.23</td>\n",
              "    </tr>\n",
              "    <tr>\n",
              "      <th>Above 90th</th>\n",
              "      <td>7.02</td>\n",
              "      <td>16.70</td>\n",
              "    </tr>\n",
              "  </tbody>\n",
              "</table>\n",
              "</div>"
            ],
            "text/plain": [
              "ICU            nao_precisa_de_uti  precisa_de_uti\n",
              "AGE_PERCENTIL                                    \n",
              "10th                        12.70            5.05\n",
              "20th                        13.19            5.63\n",
              "30th                        11.35            8.74\n",
              "40th                        11.77            6.60\n",
              "50th                        10.28            8.74\n",
              "60th                         9.08           11.07\n",
              "70th                         9.01           13.20\n",
              "80th                         9.08           12.04\n",
              "90th                         6.52           12.23\n",
              "Above 90th                   7.02           16.70"
            ]
          },
          "metadata": {
            "tags": []
          },
          "execution_count": 20
        }
      ]
    },
    {
      "cell_type": "markdown",
      "metadata": {
        "id": "F7bU-S_ZUtJa"
      },
      "source": [
        "Quando analisamos agora em relação a quem foi internado na UTI e quem não foi, notamos que os grupos de idades apartir dos 60 anos são a maioria."
      ]
    },
    {
      "cell_type": "markdown",
      "metadata": {
        "id": "cTbxitYEWWRI"
      },
      "source": [
        "##Compreendendo um pouco sobre as Colunas listadas"
      ]
    },
    {
      "cell_type": "markdown",
      "metadata": {
        "id": "ciV6tctEWcEn"
      },
      "source": [
        "Em nosso conjunto de dados, temos algumas colunas de dados que trazem informações referente a doenças que determinado paciente possui ou não. Conhecer um pouquinho sobre estas doenças ajuda a entender os impactos que podem gerar em pacientes que necessitem de UTI por conta do Coronavírus.<br>\r\n",
        "Começando então pela coluna `HTN` que refere-se a **Hipertensão** (*entendida como a pressão arterial acima de 14/9 e é considerada grave quando a pressão está acima de 18/12*). Conforme matéria da Revista [Veja](https://saude.abril.com.br/medicina/por-que-a-hipertensao-aumenta-o-risco-de-complicacoes-do-coronavirus/), a Hipertensão pode agravar o quadro de pacientes que foram infectados pela covid-19. Como aponta a própria matéria:\r\n",
        "> Em um dos trabalhos, feito com mais de mil pacientes, dos 173 que foram acometidos de maneira severa pela Covid-19, 23% tinham pressão alta e 16%, diabetes. Em outro, de 140 internados por causa da Covid-19, 30% possuíam hipertensão e 12%, a glicemia cronicamente elevada. [...] \r\n",
        "\r\n",
        "Ainda segundo a mesma reportagem, temos que:\r\n",
        "\r\n",
        "> Para infectar as células, o Sars-Cov-2 utiliza a enzima conversora de angiotensina 2, chamada de ECA-2, presente nas células de pulmão, rins e outros órgãos. E alguns remédios usados pelos hipertensos elevam o nível dessas enzimas”, explica a cardiologista Ludhmila Abrahão Hajjar, diretora de Ciência, Tecnologia e Inovação da Sociedade Brasileira de Cardiologia (SBC). \r\n",
        "\r\n",
        "Isso significa que devemos manter uma atenção a esses dados referentes a hipertensão, sendo de grande importância pra um treino de modelo de classificação, talvez. Presumindo então que em nossos dados os valores tenham o seguite significado:\r\n",
        "\r\n",
        "* 0 = Sem Hipertensão\r\n",
        "* 1 = Possui Hipertensão\r\n",
        "\r\n",
        "Vejamos como é a relação de pessoas que possuem ou não hipertensão e a necessidade de UTI"
      ]
    },
    {
      "cell_type": "code",
      "metadata": {
        "id": "yi09C9KsDNbQ",
        "colab": {
          "base_uri": "https://localhost:8080/",
          "height": 137
        },
        "outputId": "af832d8d-e242-439e-d5f1-1611a8b5a4ca"
      },
      "source": [
        "dicio_hipertensao ={0:\"nao_possui_hipertensao\",1:\"possui_hipertensao\"}\r\n",
        "\r\n",
        "\r\n",
        "rel_hipertensao_uti = crosstab_data(dados['HTN'],dados['ICU'], dicio1 = dicio_hipertensao, dicio2 = dicio_uti)\r\n",
        "rel_hipertensao_uti"
      ],
      "execution_count": 21,
      "outputs": [
        {
          "output_type": "execute_result",
          "data": {
            "text/html": [
              "<div>\n",
              "<style scoped>\n",
              "    .dataframe tbody tr th:only-of-type {\n",
              "        vertical-align: middle;\n",
              "    }\n",
              "\n",
              "    .dataframe tbody tr th {\n",
              "        vertical-align: top;\n",
              "    }\n",
              "\n",
              "    .dataframe thead th {\n",
              "        text-align: right;\n",
              "    }\n",
              "</style>\n",
              "<table border=\"1\" class=\"dataframe\">\n",
              "  <thead>\n",
              "    <tr style=\"text-align: right;\">\n",
              "      <th>ICU</th>\n",
              "      <th>nao_precisa_de_uti</th>\n",
              "      <th>precisa_de_uti</th>\n",
              "    </tr>\n",
              "    <tr>\n",
              "      <th>HTN</th>\n",
              "      <th></th>\n",
              "      <th></th>\n",
              "    </tr>\n",
              "  </thead>\n",
              "  <tbody>\n",
              "    <tr>\n",
              "      <th>nao_possui_hipertensao</th>\n",
              "      <td>77.10</td>\n",
              "      <td>22.90</td>\n",
              "    </tr>\n",
              "    <tr>\n",
              "      <th>possui_hipertensao</th>\n",
              "      <td>58.68</td>\n",
              "      <td>41.32</td>\n",
              "    </tr>\n",
              "  </tbody>\n",
              "</table>\n",
              "</div>"
            ],
            "text/plain": [
              "ICU                     nao_precisa_de_uti  precisa_de_uti\n",
              "HTN                                                       \n",
              "nao_possui_hipertensao               77.10           22.90\n",
              "possui_hipertensao                   58.68           41.32"
            ]
          },
          "metadata": {
            "tags": []
          },
          "execution_count": 21
        }
      ]
    },
    {
      "cell_type": "markdown",
      "metadata": {
        "id": "-hYlWPzpa1C_"
      },
      "source": [
        "Das pessoas que não possuem hipertensão, apenas **22.90%** necessitaram de internação em um leito de UTI. Por outro lado, dos pacientes que sofrem da doença, cerca de **41%** precisaram ser internados. Essa **Diferença** de **18%** indica o impacto que a hipertensão causa, junto da covid-19 em pacientes. Essa coluna pode ser de grande importância para o modelo e análise de resultados."
      ]
    },
    {
      "cell_type": "markdown",
      "metadata": {
        "id": "sL-Uf_edg5mK"
      },
      "source": [
        "Nas colunas, temos uma coluna que nos diz quais pacientes são \r\n",
        "**IMUNOCOMPROMETIDOS** (coluna `IMMUNOCOMPROMISED`). Temos por definição que:\r\n",
        ">Os pacientes imunocomprometidos são aqueles cujos mecanismos normais de defesa contra infecção estão comprometidos. Esses pacientes podem incluir, entre outros, receptores de transplante e de implante, queimados, portadores do vírus da imunodeficiência humana (HIV) e indivíduos com câncer. Como o sistema imune do paciente torna-se mais e mais comprometido, os organismos menos virulentos progressivamente se tornam mais perigosos, deixando os pacientes com graves defeitos imunológicos mais suscetíveis a um número e uma variedade maior de doenças infecciosas. (Referência: [Medicina Net](https://www.medicinanet.com.br/conteudos/qualidade-e-seguranca/5355/pacientes_imunocomprometidos.htm))"
      ]
    },
    {
      "cell_type": "markdown",
      "metadata": {
        "id": "rWoq3t9FiGE6"
      },
      "source": [
        "Isso significa que por estarem nesta situação, tornam-se alvos fáceis para o Coronavírus. Em nosso conjunto de dados, temos, assumindo os significados os seguintes valores:\r\n",
        "* 0 = Não é Imunocomprometido;\r\n",
        "* 1 = É Imunocomprometido;\r\n"
      ]
    },
    {
      "cell_type": "code",
      "metadata": {
        "colab": {
          "base_uri": "https://localhost:8080/",
          "height": 107
        },
        "id": "muln8M3rektq",
        "outputId": "7fb01cc6-3003-4f6c-d519-f237da57ee3d"
      },
      "source": [
        "dicio_imunocomprometido = {0: \"nao_e_imunocomprometido\", 1: \"e_imunocomprometido\"}\r\n",
        "\r\n",
        "imunocomprometido_freq_porcentagem = formated_table(dados['IMMUNOCOMPROMISED'],dicionario = dicio_imunocomprometido)\r\n",
        "imunocomprometido_freq_porcentagem"
      ],
      "execution_count": 22,
      "outputs": [
        {
          "output_type": "execute_result",
          "data": {
            "text/html": [
              "<div>\n",
              "<style scoped>\n",
              "    .dataframe tbody tr th:only-of-type {\n",
              "        vertical-align: middle;\n",
              "    }\n",
              "\n",
              "    .dataframe tbody tr th {\n",
              "        vertical-align: top;\n",
              "    }\n",
              "\n",
              "    .dataframe thead th {\n",
              "        text-align: right;\n",
              "    }\n",
              "</style>\n",
              "<table border=\"1\" class=\"dataframe\">\n",
              "  <thead>\n",
              "    <tr style=\"text-align: right;\">\n",
              "      <th></th>\n",
              "      <th>Frequencia</th>\n",
              "      <th>Porcentagem</th>\n",
              "    </tr>\n",
              "  </thead>\n",
              "  <tbody>\n",
              "    <tr>\n",
              "      <th>nao_e_imunocomprometido</th>\n",
              "      <td>1616</td>\n",
              "      <td>84.167</td>\n",
              "    </tr>\n",
              "    <tr>\n",
              "      <th>e_imunocomprometido</th>\n",
              "      <td>304</td>\n",
              "      <td>15.833</td>\n",
              "    </tr>\n",
              "  </tbody>\n",
              "</table>\n",
              "</div>"
            ],
            "text/plain": [
              "                         Frequencia  Porcentagem\n",
              "nao_e_imunocomprometido        1616       84.167\n",
              "e_imunocomprometido             304       15.833"
            ]
          },
          "metadata": {
            "tags": []
          },
          "execution_count": 22
        }
      ]
    },
    {
      "cell_type": "code",
      "metadata": {
        "colab": {
          "base_uri": "https://localhost:8080/",
          "height": 414
        },
        "id": "LBY7iHUljaMh",
        "outputId": "3fc40b49-6bcc-40c1-e96d-d0182ba487de"
      },
      "source": [
        "imunocomprometido_freq_porcentagem['Frequencia'].plot(kind='bar',figsize=(12,6))\r\n",
        "\r\n",
        "plt.title(\"FIGURA 4 - Quantidade de Pacientes Imunocomprometidos\",size=18)\r\n",
        "plt.ylabel(\"Quantidade de Pacientes\",size=14)\r\n",
        "plt.xlabel('O paciente é Imunocomprometido ?',size=14)\r\n",
        "plt.xticks([0,1],[\"Não\",\"Sim\"],rotation = 0)\r\n",
        "plt.ylim(0,1800)\r\n",
        "plt.show()"
      ],
      "execution_count": 23,
      "outputs": [
        {
          "output_type": "display_data",
          "data": {
            "image/png": "[encoded data removed]",
            "text/plain": [
              "<Figure size 864x432 with 1 Axes>"
            ]
          },
          "metadata": {
            "tags": [],
            "needs_background": "light"
          }
        }
      ]
    },
    {
      "cell_type": "markdown",
      "metadata": {
        "id": "BwYqrDMMjHfs"
      },
      "source": [
        "Mais de **84%** dos pacientes não são Imunocomprometidos.<br>\r\n",
        "\r\n",
        "Mas a pergunta agora é: **Com isso é refletido na ocupação de UTI's ?**"
      ]
    },
    {
      "cell_type": "code",
      "metadata": {
        "colab": {
          "base_uri": "https://localhost:8080/",
          "height": 137
        },
        "id": "hQXEUCXOfkM9",
        "outputId": "487fd080-c2de-4fcc-ffb2-03fd7efc3523"
      },
      "source": [
        "crosstab_data(dados['IMMUNOCOMPROMISED'],dados['ICU'],dicio1=dicio_imunocomprometido,dicio2 = dicio_uti)"
      ],
      "execution_count": 24,
      "outputs": [
        {
          "output_type": "execute_result",
          "data": {
            "text/html": [
              "<div>\n",
              "<style scoped>\n",
              "    .dataframe tbody tr th:only-of-type {\n",
              "        vertical-align: middle;\n",
              "    }\n",
              "\n",
              "    .dataframe tbody tr th {\n",
              "        vertical-align: top;\n",
              "    }\n",
              "\n",
              "    .dataframe thead th {\n",
              "        text-align: right;\n",
              "    }\n",
              "</style>\n",
              "<table border=\"1\" class=\"dataframe\">\n",
              "  <thead>\n",
              "    <tr style=\"text-align: right;\">\n",
              "      <th>ICU</th>\n",
              "      <th>nao_precisa_de_uti</th>\n",
              "      <th>precisa_de_uti</th>\n",
              "    </tr>\n",
              "    <tr>\n",
              "      <th>IMMUNOCOMPROMISED</th>\n",
              "      <th></th>\n",
              "      <th></th>\n",
              "    </tr>\n",
              "  </thead>\n",
              "  <tbody>\n",
              "    <tr>\n",
              "      <th>nao_e_imunocomprometido</th>\n",
              "      <td>73.45</td>\n",
              "      <td>26.55</td>\n",
              "    </tr>\n",
              "    <tr>\n",
              "      <th>e_imunocomprometido</th>\n",
              "      <td>71.71</td>\n",
              "      <td>28.29</td>\n",
              "    </tr>\n",
              "  </tbody>\n",
              "</table>\n",
              "</div>"
            ],
            "text/plain": [
              "ICU                      nao_precisa_de_uti  precisa_de_uti\n",
              "IMMUNOCOMPROMISED                                          \n",
              "nao_e_imunocomprometido               73.45           26.55\n",
              "e_imunocomprometido                   71.71           28.29"
            ]
          },
          "metadata": {
            "tags": []
          },
          "execution_count": 24
        }
      ]
    },
    {
      "cell_type": "markdown",
      "metadata": {
        "id": "db3T4vACmrwE"
      },
      "source": [
        "Imunocomprometidos, por mais que tenham toda a questão de estarem com os mecanismos de defesa mais frageis, não representam uma grande quantidade de ocupações em leitos de UTI. Os valores até se assemelham com os de pacientes de não imunocomprometidos (mesmo sendo um pouco menor)."
      ]
    },
    {
      "cell_type": "markdown",
      "metadata": {
        "id": "J_1o2sWbqhwa"
      },
      "source": [
        "Uma outra coisa interessante a se fazer, é analisar algumas colunas de forma aleatória. A ideia aqui é pegar 12 colunas referentes as médias de:\r\n",
        "\r\n",
        "* ALBUMINA - responsável principalmente por manter constante os níveis de líquido nos vasos sanguíneos;\r\n",
        "* CÁLCIO - responsável pela formação e desenvolvimento dos ossos e dentes;\r\n",
        "* GLICOSE - função primordial é de fornecer energia aos organismos vivos;\r\n",
        "* HEMOGLOBINA - responsável pela coloração vermelha do sangue;\r\n",
        "* LEUCÓCITOS -  têm como função a defesa contra organismos estranhos;\r\n",
        "* POTÁSSIO - é necessário para o funcionamento normal das células, nervos e músculos;\r\n",
        "* FREQUÊNCIA CARDIACA - a velocidade do ciclo cardíaco medida pelo número de contrações do coração por minuto;\r\n",
        "* FREQUÊNCIA RESPIRATÓRIA -  é a designação dada em fisiologia animal e em medicina ao número de ciclos respiratórios que um animal completa num lapso específico de tempo;\r\n",
        "* TEMPERATURA;\r\n",
        "* SATURAÇÃO DE OXIGÊNIO - saturação de oxigênio do sangue, ou seja a porcentagem de oxigênio que está sendo transportada na circulação sanguínea;\r\n",
        "* ITU - no caso, ICU."
      ]
    },
    {
      "cell_type": "code",
      "metadata": {
        "id": "0Z8va4g5pi_a"
      },
      "source": [
        "dados_sanguineos_respiracao = dados[['ALBUMIN_MEAN','CALCIUM_MEAN','CALCIUM_MEAN','GLUCOSE_MEAN','HEMOGLOBIN_MEAN',\r\n",
        "      'LEUKOCYTES_MEAN','POTASSIUM_MEAN','HEART_RATE_MEAN','RESPIRATORY_RATE_MEAN',\r\n",
        "      'TEMPERATURE_MEAN','OXYGEN_SATURATION_MEAN','ICU']]"
      ],
      "execution_count": 25,
      "outputs": []
    },
    {
      "cell_type": "markdown",
      "metadata": {
        "id": "aD4ZQOmyvmRA"
      },
      "source": [
        "Quantidade de valores NaN nas colunas"
      ]
    },
    {
      "cell_type": "code",
      "metadata": {
        "colab": {
          "base_uri": "https://localhost:8080/"
        },
        "id": "T0Vm8ImsvhK0",
        "outputId": "c5c43e54-f370-4c20-b87d-700d4283327f"
      },
      "source": [
        "dados_sanguineos_respiracao.isna().sum()"
      ],
      "execution_count": 26,
      "outputs": [
        {
          "output_type": "execute_result",
          "data": {
            "text/plain": [
              "ALBUMIN_MEAN              1104\n",
              "CALCIUM_MEAN              1104\n",
              "CALCIUM_MEAN              1104\n",
              "GLUCOSE_MEAN              1104\n",
              "HEMOGLOBIN_MEAN           1104\n",
              "LEUKOCYTES_MEAN           1104\n",
              "POTASSIUM_MEAN            1104\n",
              "HEART_RATE_MEAN            685\n",
              "RESPIRATORY_RATE_MEAN      748\n",
              "TEMPERATURE_MEAN           694\n",
              "OXYGEN_SATURATION_MEAN     686\n",
              "ICU                          0\n",
              "dtype: int64"
            ]
          },
          "metadata": {
            "tags": []
          },
          "execution_count": 26
        }
      ]
    },
    {
      "cell_type": "markdown",
      "metadata": {
        "id": "L4SWANmDv8h_"
      },
      "source": [
        "Usaremos um Correlograma, uma variante de um Mapa de Calor (Heat Map), para analisarmos se há correlações entre as colunas selecionadas."
      ]
    },
    {
      "cell_type": "code",
      "metadata": {
        "colab": {
          "base_uri": "https://localhost:8080/",
          "height": 724
        },
        "id": "5Fs2X-79vpxZ",
        "outputId": "8f7c4f93-1abb-4a40-9267-38238dd54d87"
      },
      "source": [
        "grafico_sang_resp = msno.heatmap(dados_sanguineos_respiracao,figsize=(12,9))\r\n",
        "plt.title(\"FIGURA 5 - Mapa de Calor Exame de Sangue e Sinais vitais\",size=18)\r\n",
        "grafico_sang_resp.get_figure();"
      ],
      "execution_count": 27,
      "outputs": [
        {
          "output_type": "display_data",
          "data": {
            "image/png": "[encoded data removed]",
            "text/plain": [
              "<Figure size 864x648 with 2 Axes>"
            ]
          },
          "metadata": {
            "tags": [],
            "needs_background": "light"
          }
        }
      ]
    },
    {
      "cell_type": "markdown",
      "metadata": {
        "id": "k2VoPOkF7RUc"
      },
      "source": [
        "Acima temos que há correlação entre atributos que apresentam dados ausentes. Para os valores, temos a seguinte significação:\r\n",
        "\r\n",
        "* Um valor próximo a  -1 (menos um) significa que se uma variável aparecer, é muito provável que a outra variável esteja ausente.\r\n",
        "* Um valor próximo a 0 (zero) significa que não há dependência entre a ocorrência de valores ausentes de duas variáveis.\r\n",
        "* Um valor próximo a 1 (um) significa que se uma variável aparecer, é muito provável que a outra variável esteja presente. \r\n",
        "\r\n",
        "No nosso caso, analisando essas colunas, conclui-se para a maioria das colunas possuem uma correlação positiva. Nos casos próximos a zero, temos que os valores  presentes ou ausentes não têm qualquer efeito uns sobre os outros."
      ]
    },
    {
      "cell_type": "markdown",
      "metadata": {
        "id": "1F3p4eH1D46Y"
      },
      "source": [
        "Vamos utilizar um dendograma para entender melhor os agrupamentos (clusters) existentes nesse conjunto de dados que foi realizado. Por definição, um dendograma é:\r\n",
        ">O dendrograma é um diagrama de árvore que exibe os grupos formados por agrupamento de observações em cada passo e em seus níveis de similaridade. O nível de similaridade é medido ao longo do eixo vertical (alternativamente, você pode exibir o nível de distância) e as diferentes observações são listadas ao longo do eixo horizontal.(Referência: [Minitab](https://support.minitab.com/pt-br/minitab/18/help-and-how-to/modeling-statistics/multivariate/how-to/cluster-observations/interpret-the-results/all-statistics-and-graphs/dendrogram/))"
      ]
    },
    {
      "cell_type": "code",
      "metadata": {
        "colab": {
          "base_uri": "https://localhost:8080/",
          "height": 528
        },
        "id": "bVVlw4vF2lpa",
        "outputId": "3a4dfe35-3831-4d82-ee21-dee15e446fcc"
      },
      "source": [
        "grafico_dendograma_sang_resp = msno.dendrogram(dados_sanguineos_respiracao,figsize=(15,5),orientation='top')\r\n",
        "plt.ylabel(\"Escala de Similaridade\",size=18,color='r',weight='bold')\r\n",
        "plt.xlabel(\"Colunas\",size=18,color='r',weight='bold')\r\n",
        "\r\n",
        "plt.axhline(y=4,color='r',linewidth=3)\r\n",
        "plt.text(138, 4, 'ramos verticais = 6', fontsize=12, va='center', ha='right', backgroundcolor='w')\r\n",
        "\r\n",
        "plt.axhline(y=20,color='b',linewidth=3)\r\n",
        "plt.text(138, 20, 'ramos verticais = 3', fontsize=12, va='center', ha='right', backgroundcolor='w')\r\n",
        "\r\n",
        "plt.title(\"FIGURA 6 - Dendograma das colunas de Exame de Sangue e Sinais Vitais\",size=18)\r\n",
        "grafico_dendograma_sang_resp.get_figure();\r\n"
      ],
      "execution_count": 28,
      "outputs": [
        {
          "output_type": "display_data",
          "data": {
            "image/png": "[encoded data removed]",
            "text/plain": [
              "<Figure size 1080x360 with 1 Axes>"
            ]
          },
          "metadata": {
            "tags": [],
            "needs_background": "light"
          }
        }
      ]
    },
    {
      "cell_type": "markdown",
      "metadata": {
        "id": "g3ipW6DeD_RG"
      },
      "source": [
        "A partir do gráfico podemos entender melhor quais colunas possuem uma similaridade mais próxima uma da outra. `HEART_RATE_MEAN` e `OXYGEN_SATURATION_MEAN` possuem bastante similaridade. Outro ponto interessante são os ramos verticais indicados no gráfico. Na linha de azul, temos 3 classes identificadas que vão se ramificando até gerarem no final, 6 classes. A classe da linha azul de número 3 (da esquerda para direita) é a responsável por agrupar informações de sinais vitais:\r\n",
        "* `RESPIRATORY_RATE_MEAN`;\r\n",
        "* `TEMPERATURE_MEAN`;\r\n",
        "* `HEART_RATE_MEAN`;\r\n",
        "* `OXYGEN_SATURATION_MEAN`.\r\n",
        "\r\n",
        "Enquanto que na classe 1 da linha azul (da esquerda da direita), temos informaçõe referentes aos exames de sangue dos pacientes, por isso a similaridade deles estarem todas em um mesmo nível. O eixo y representa o limiar em alguma distância de linkagem. Por último, veja que `ICU`(coluna referente a UTI) possui sim um agrupamento em comum com os dados de sinais vitais em certo ponto, afinal, é apartir dos sinais vitais, da forma como eles estão, que podemos definir a necessidade de UTI, por exemplo (claro, é um dos fatores decisivos)."
      ]
    },
    {
      "cell_type": "markdown",
      "metadata": {
        "id": "kkbllCRtgTZ7"
      },
      "source": [
        "##Colunas com alta correlação"
      ]
    },
    {
      "cell_type": "markdown",
      "metadata": {
        "id": "OmGGoLk-gYua"
      },
      "source": [
        "Iremos tratar a questão de correlações altas entre colunas. O motivo é simples: geralmente colunas com correlações altas geram problemas em modelos de Machine Learning. Acabam interferindo de modo que possamos ter resultados enganosos ou enviesados."
      ]
    },
    {
      "cell_type": "markdown",
      "metadata": {
        "id": "IQikOYni0OKT"
      },
      "source": [
        "A esse ponto, já procuraremos entender, nos aspecto geral, as correlações existentes para todas as colunas em nosso dataset. Aplicando nossa função `correlated_columns_harrison`, podemos filtrar valores onde a correlação é maior que `0.95` por exemplo."
      ]
    },
    {
      "cell_type": "code",
      "metadata": {
        "colab": {
          "base_uri": "https://localhost:8080/",
          "height": 406
        },
        "id": "gugYs2ht9eUY",
        "outputId": "cc71c243-7575-436a-afd2-455744ab449b"
      },
      "source": [
        "dados_correlacao = correlated_columns_harrison(dados,threshold = 0.95)\r\n",
        "dados_correlacao"
      ],
      "execution_count": 29,
      "outputs": [
        {
          "output_type": "execute_result",
          "data": {
            "text/html": [
              "<div>\n",
              "<style scoped>\n",
              "    .dataframe tbody tr th:only-of-type {\n",
              "        vertical-align: middle;\n",
              "    }\n",
              "\n",
              "    .dataframe tbody tr th {\n",
              "        vertical-align: top;\n",
              "    }\n",
              "\n",
              "    .dataframe thead th {\n",
              "        text-align: right;\n",
              "    }\n",
              "</style>\n",
              "<table border=\"1\" class=\"dataframe\">\n",
              "  <thead>\n",
              "    <tr style=\"text-align: right;\">\n",
              "      <th></th>\n",
              "      <th>level_0</th>\n",
              "      <th>level_1</th>\n",
              "      <th>pearson</th>\n",
              "    </tr>\n",
              "  </thead>\n",
              "  <tbody>\n",
              "    <tr>\n",
              "      <th>3</th>\n",
              "      <td>ALBUMIN_MAX</td>\n",
              "      <td>ALBUMIN_MEDIAN</td>\n",
              "      <td>1.000000</td>\n",
              "    </tr>\n",
              "    <tr>\n",
              "      <th>4</th>\n",
              "      <td>ALBUMIN_MAX</td>\n",
              "      <td>ALBUMIN_MEAN</td>\n",
              "      <td>1.000000</td>\n",
              "    </tr>\n",
              "    <tr>\n",
              "      <th>5</th>\n",
              "      <td>ALBUMIN_MAX</td>\n",
              "      <td>ALBUMIN_MIN</td>\n",
              "      <td>1.000000</td>\n",
              "    </tr>\n",
              "    <tr>\n",
              "      <th>9</th>\n",
              "      <td>BE_ARTERIAL_MAX</td>\n",
              "      <td>BE_ARTERIAL_MEDIAN</td>\n",
              "      <td>1.000000</td>\n",
              "    </tr>\n",
              "    <tr>\n",
              "      <th>10</th>\n",
              "      <td>BE_ARTERIAL_MAX</td>\n",
              "      <td>BE_ARTERIAL_MEAN</td>\n",
              "      <td>1.000000</td>\n",
              "    </tr>\n",
              "    <tr>\n",
              "      <th>...</th>\n",
              "      <td>...</td>\n",
              "      <td>...</td>\n",
              "      <td>...</td>\n",
              "    </tr>\n",
              "    <tr>\n",
              "      <th>272</th>\n",
              "      <td>HEART_RATE_DIFF_REL</td>\n",
              "      <td>HEART_RATE_DIFF</td>\n",
              "      <td>0.983785</td>\n",
              "    </tr>\n",
              "    <tr>\n",
              "      <th>273</th>\n",
              "      <td>RESPIRATORY_RATE_DIFF_REL</td>\n",
              "      <td>RESPIRATORY_RATE_DIFF</td>\n",
              "      <td>0.991107</td>\n",
              "    </tr>\n",
              "    <tr>\n",
              "      <th>274</th>\n",
              "      <td>TEMPERATURE_DIFF_REL</td>\n",
              "      <td>TEMPERATURE_DIFF</td>\n",
              "      <td>0.999898</td>\n",
              "    </tr>\n",
              "    <tr>\n",
              "      <th>275</th>\n",
              "      <td>OXYGEN_SATURATION_DIFF_REL</td>\n",
              "      <td>OXYGEN_SATURATION_MIN</td>\n",
              "      <td>-0.983653</td>\n",
              "    </tr>\n",
              "    <tr>\n",
              "      <th>276</th>\n",
              "      <td>OXYGEN_SATURATION_DIFF_REL</td>\n",
              "      <td>OXYGEN_SATURATION_DIFF</td>\n",
              "      <td>0.999831</td>\n",
              "    </tr>\n",
              "  </tbody>\n",
              "</table>\n",
              "<p>123 rows × 3 columns</p>\n",
              "</div>"
            ],
            "text/plain": [
              "                        level_0                 level_1   pearson\n",
              "3                   ALBUMIN_MAX          ALBUMIN_MEDIAN  1.000000\n",
              "4                   ALBUMIN_MAX            ALBUMIN_MEAN  1.000000\n",
              "5                   ALBUMIN_MAX             ALBUMIN_MIN  1.000000\n",
              "9               BE_ARTERIAL_MAX      BE_ARTERIAL_MEDIAN  1.000000\n",
              "10              BE_ARTERIAL_MAX        BE_ARTERIAL_MEAN  1.000000\n",
              "..                          ...                     ...       ...\n",
              "272         HEART_RATE_DIFF_REL         HEART_RATE_DIFF  0.983785\n",
              "273   RESPIRATORY_RATE_DIFF_REL   RESPIRATORY_RATE_DIFF  0.991107\n",
              "274        TEMPERATURE_DIFF_REL        TEMPERATURE_DIFF  0.999898\n",
              "275  OXYGEN_SATURATION_DIFF_REL   OXYGEN_SATURATION_MIN -0.983653\n",
              "276  OXYGEN_SATURATION_DIFF_REL  OXYGEN_SATURATION_DIFF  0.999831\n",
              "\n",
              "[123 rows x 3 columns]"
            ]
          },
          "metadata": {
            "tags": []
          },
          "execution_count": 29
        }
      ]
    },
    {
      "cell_type": "markdown",
      "metadata": {
        "id": "b0koGKIYfJx-"
      },
      "source": [
        "Filtrarei as colunas que se repetem e um novo dataframe é instanciado na variável `dados_sem_correlacao`."
      ]
    },
    {
      "cell_type": "code",
      "metadata": {
        "colab": {
          "base_uri": "https://localhost:8080/",
          "height": 251
        },
        "id": "0Ez4J__2dzYp",
        "outputId": "1918cbad-8c78-4cdd-a2da-8b848bb5cc5c"
      },
      "source": [
        "colunas_com_muita_correlacao = descartar_colunas_correlacionadas(dados_correlacao)\r\n",
        "\r\n",
        "dados_sem_correlacao = dados.drop(columns = colunas_com_muita_correlacao)\r\n",
        "dados_sem_correlacao.head()"
      ],
      "execution_count": 135,
      "outputs": [
        {
          "output_type": "execute_result",
          "data": {
            "text/html": [
              "<div>\n",
              "<style scoped>\n",
              "    .dataframe tbody tr th:only-of-type {\n",
              "        vertical-align: middle;\n",
              "    }\n",
              "\n",
              "    .dataframe tbody tr th {\n",
              "        vertical-align: top;\n",
              "    }\n",
              "\n",
              "    .dataframe thead th {\n",
              "        text-align: right;\n",
              "    }\n",
              "</style>\n",
              "<table border=\"1\" class=\"dataframe\">\n",
              "  <thead>\n",
              "    <tr style=\"text-align: right;\">\n",
              "      <th></th>\n",
              "      <th>PATIENT_VISIT_IDENTIFIER</th>\n",
              "      <th>AGE_ABOVE65</th>\n",
              "      <th>AGE_PERCENTIL</th>\n",
              "      <th>GENDER</th>\n",
              "      <th>DISEASE GROUPING 1</th>\n",
              "      <th>DISEASE GROUPING 2</th>\n",
              "      <th>DISEASE GROUPING 3</th>\n",
              "      <th>DISEASE GROUPING 4</th>\n",
              "      <th>DISEASE GROUPING 5</th>\n",
              "      <th>DISEASE GROUPING 6</th>\n",
              "      <th>HTN</th>\n",
              "      <th>IMMUNOCOMPROMISED</th>\n",
              "      <th>OTHER</th>\n",
              "      <th>ALBUMIN_DIFF</th>\n",
              "      <th>BE_ARTERIAL_DIFF</th>\n",
              "      <th>BE_VENOUS_DIFF</th>\n",
              "      <th>BIC_ARTERIAL_DIFF</th>\n",
              "      <th>BIC_VENOUS_DIFF</th>\n",
              "      <th>BILLIRUBIN_DIFF</th>\n",
              "      <th>BLAST_DIFF</th>\n",
              "      <th>CALCIUM_DIFF</th>\n",
              "      <th>CREATININ_DIFF</th>\n",
              "      <th>FFA_DIFF</th>\n",
              "      <th>GGT_DIFF</th>\n",
              "      <th>GLUCOSE_DIFF</th>\n",
              "      <th>HEMATOCRITE_DIFF</th>\n",
              "      <th>HEMOGLOBIN_DIFF</th>\n",
              "      <th>INR_DIFF</th>\n",
              "      <th>LACTATE_DIFF</th>\n",
              "      <th>LEUKOCYTES_DIFF</th>\n",
              "      <th>LINFOCITOS_DIFF</th>\n",
              "      <th>NEUTROPHILES_DIFF</th>\n",
              "      <th>P02_ARTERIAL_DIFF</th>\n",
              "      <th>P02_VENOUS_DIFF</th>\n",
              "      <th>PC02_ARTERIAL_DIFF</th>\n",
              "      <th>PC02_VENOUS_DIFF</th>\n",
              "      <th>PCR_DIFF</th>\n",
              "      <th>PH_ARTERIAL_DIFF</th>\n",
              "      <th>PH_VENOUS_DIFF</th>\n",
              "      <th>PLATELETS_DIFF</th>\n",
              "      <th>POTASSIUM_DIFF</th>\n",
              "      <th>SAT02_ARTERIAL_DIFF</th>\n",
              "      <th>SAT02_VENOUS_DIFF</th>\n",
              "      <th>SODIUM_DIFF</th>\n",
              "      <th>TGO_DIFF</th>\n",
              "      <th>TGP_DIFF</th>\n",
              "      <th>TTPA_DIFF</th>\n",
              "      <th>UREA_DIFF</th>\n",
              "      <th>DIMER_DIFF</th>\n",
              "      <th>OXYGEN_SATURATION_MEAN</th>\n",
              "      <th>OXYGEN_SATURATION_MEDIAN</th>\n",
              "      <th>BLOODPRESSURE_DIASTOLIC_MIN</th>\n",
              "      <th>BLOODPRESSURE_SISTOLIC_MIN</th>\n",
              "      <th>HEART_RATE_MIN</th>\n",
              "      <th>RESPIRATORY_RATE_MIN</th>\n",
              "      <th>TEMPERATURE_MIN</th>\n",
              "      <th>BLOODPRESSURE_DIASTOLIC_MAX</th>\n",
              "      <th>BLOODPRESSURE_SISTOLIC_MAX</th>\n",
              "      <th>HEART_RATE_MAX</th>\n",
              "      <th>RESPIRATORY_RATE_MAX</th>\n",
              "      <th>TEMPERATURE_MAX</th>\n",
              "      <th>OXYGEN_SATURATION_MAX</th>\n",
              "      <th>WINDOW</th>\n",
              "      <th>ICU</th>\n",
              "    </tr>\n",
              "  </thead>\n",
              "  <tbody>\n",
              "    <tr>\n",
              "      <th>0</th>\n",
              "      <td>0</td>\n",
              "      <td>1</td>\n",
              "      <td>60th</td>\n",
              "      <td>0</td>\n",
              "      <td>0.0</td>\n",
              "      <td>0.0</td>\n",
              "      <td>0.0</td>\n",
              "      <td>0.0</td>\n",
              "      <td>1.0</td>\n",
              "      <td>1.0</td>\n",
              "      <td>0.0</td>\n",
              "      <td>0.0</td>\n",
              "      <td>1.0</td>\n",
              "      <td>NaN</td>\n",
              "      <td>NaN</td>\n",
              "      <td>NaN</td>\n",
              "      <td>NaN</td>\n",
              "      <td>NaN</td>\n",
              "      <td>NaN</td>\n",
              "      <td>NaN</td>\n",
              "      <td>NaN</td>\n",
              "      <td>NaN</td>\n",
              "      <td>NaN</td>\n",
              "      <td>NaN</td>\n",
              "      <td>NaN</td>\n",
              "      <td>NaN</td>\n",
              "      <td>NaN</td>\n",
              "      <td>NaN</td>\n",
              "      <td>NaN</td>\n",
              "      <td>NaN</td>\n",
              "      <td>NaN</td>\n",
              "      <td>NaN</td>\n",
              "      <td>NaN</td>\n",
              "      <td>NaN</td>\n",
              "      <td>NaN</td>\n",
              "      <td>NaN</td>\n",
              "      <td>NaN</td>\n",
              "      <td>NaN</td>\n",
              "      <td>NaN</td>\n",
              "      <td>NaN</td>\n",
              "      <td>NaN</td>\n",
              "      <td>NaN</td>\n",
              "      <td>NaN</td>\n",
              "      <td>NaN</td>\n",
              "      <td>NaN</td>\n",
              "      <td>NaN</td>\n",
              "      <td>NaN</td>\n",
              "      <td>NaN</td>\n",
              "      <td>NaN</td>\n",
              "      <td>0.736842</td>\n",
              "      <td>0.736842</td>\n",
              "      <td>0.237113</td>\n",
              "      <td>0.0000</td>\n",
              "      <td>-0.162393</td>\n",
              "      <td>-0.500000</td>\n",
              "      <td>0.208791</td>\n",
              "      <td>-0.247863</td>\n",
              "      <td>-0.459459</td>\n",
              "      <td>-0.432836</td>\n",
              "      <td>-0.636364</td>\n",
              "      <td>-0.420290</td>\n",
              "      <td>0.736842</td>\n",
              "      <td>0-2</td>\n",
              "      <td>0</td>\n",
              "    </tr>\n",
              "    <tr>\n",
              "      <th>1</th>\n",
              "      <td>0</td>\n",
              "      <td>1</td>\n",
              "      <td>60th</td>\n",
              "      <td>0</td>\n",
              "      <td>0.0</td>\n",
              "      <td>0.0</td>\n",
              "      <td>0.0</td>\n",
              "      <td>0.0</td>\n",
              "      <td>1.0</td>\n",
              "      <td>1.0</td>\n",
              "      <td>0.0</td>\n",
              "      <td>0.0</td>\n",
              "      <td>1.0</td>\n",
              "      <td>NaN</td>\n",
              "      <td>NaN</td>\n",
              "      <td>NaN</td>\n",
              "      <td>NaN</td>\n",
              "      <td>NaN</td>\n",
              "      <td>NaN</td>\n",
              "      <td>NaN</td>\n",
              "      <td>NaN</td>\n",
              "      <td>NaN</td>\n",
              "      <td>NaN</td>\n",
              "      <td>NaN</td>\n",
              "      <td>NaN</td>\n",
              "      <td>NaN</td>\n",
              "      <td>NaN</td>\n",
              "      <td>NaN</td>\n",
              "      <td>NaN</td>\n",
              "      <td>NaN</td>\n",
              "      <td>NaN</td>\n",
              "      <td>NaN</td>\n",
              "      <td>NaN</td>\n",
              "      <td>NaN</td>\n",
              "      <td>NaN</td>\n",
              "      <td>NaN</td>\n",
              "      <td>NaN</td>\n",
              "      <td>NaN</td>\n",
              "      <td>NaN</td>\n",
              "      <td>NaN</td>\n",
              "      <td>NaN</td>\n",
              "      <td>NaN</td>\n",
              "      <td>NaN</td>\n",
              "      <td>NaN</td>\n",
              "      <td>NaN</td>\n",
              "      <td>NaN</td>\n",
              "      <td>NaN</td>\n",
              "      <td>NaN</td>\n",
              "      <td>NaN</td>\n",
              "      <td>0.578947</td>\n",
              "      <td>0.578947</td>\n",
              "      <td>0.443299</td>\n",
              "      <td>0.0000</td>\n",
              "      <td>-0.025641</td>\n",
              "      <td>-0.500000</td>\n",
              "      <td>0.714286</td>\n",
              "      <td>-0.076923</td>\n",
              "      <td>-0.459459</td>\n",
              "      <td>-0.313433</td>\n",
              "      <td>-0.636364</td>\n",
              "      <td>0.246377</td>\n",
              "      <td>0.578947</td>\n",
              "      <td>2-4</td>\n",
              "      <td>0</td>\n",
              "    </tr>\n",
              "    <tr>\n",
              "      <th>2</th>\n",
              "      <td>0</td>\n",
              "      <td>1</td>\n",
              "      <td>60th</td>\n",
              "      <td>0</td>\n",
              "      <td>0.0</td>\n",
              "      <td>0.0</td>\n",
              "      <td>0.0</td>\n",
              "      <td>0.0</td>\n",
              "      <td>1.0</td>\n",
              "      <td>1.0</td>\n",
              "      <td>0.0</td>\n",
              "      <td>0.0</td>\n",
              "      <td>1.0</td>\n",
              "      <td>-1.0</td>\n",
              "      <td>-1.0</td>\n",
              "      <td>-1.0</td>\n",
              "      <td>-1.0</td>\n",
              "      <td>-1.0</td>\n",
              "      <td>-1.0</td>\n",
              "      <td>-1.0</td>\n",
              "      <td>-1.0</td>\n",
              "      <td>-1.0</td>\n",
              "      <td>-1.0</td>\n",
              "      <td>-1.0</td>\n",
              "      <td>-1.0</td>\n",
              "      <td>-1.0</td>\n",
              "      <td>-1.0</td>\n",
              "      <td>-1.0</td>\n",
              "      <td>-1.0</td>\n",
              "      <td>-1.0</td>\n",
              "      <td>-1.0</td>\n",
              "      <td>-1.0</td>\n",
              "      <td>-1.0</td>\n",
              "      <td>-1.0</td>\n",
              "      <td>-1.0</td>\n",
              "      <td>-1.0</td>\n",
              "      <td>-1.0</td>\n",
              "      <td>-1.0</td>\n",
              "      <td>-1.0</td>\n",
              "      <td>-1.0</td>\n",
              "      <td>-1.0</td>\n",
              "      <td>-1.0</td>\n",
              "      <td>-1.0</td>\n",
              "      <td>-1.0</td>\n",
              "      <td>-1.0</td>\n",
              "      <td>-1.0</td>\n",
              "      <td>-1.0</td>\n",
              "      <td>-1.0</td>\n",
              "      <td>-1.0</td>\n",
              "      <td>NaN</td>\n",
              "      <td>NaN</td>\n",
              "      <td>NaN</td>\n",
              "      <td>NaN</td>\n",
              "      <td>NaN</td>\n",
              "      <td>NaN</td>\n",
              "      <td>NaN</td>\n",
              "      <td>NaN</td>\n",
              "      <td>NaN</td>\n",
              "      <td>NaN</td>\n",
              "      <td>NaN</td>\n",
              "      <td>NaN</td>\n",
              "      <td>NaN</td>\n",
              "      <td>4-6</td>\n",
              "      <td>0</td>\n",
              "    </tr>\n",
              "    <tr>\n",
              "      <th>3</th>\n",
              "      <td>0</td>\n",
              "      <td>1</td>\n",
              "      <td>60th</td>\n",
              "      <td>0</td>\n",
              "      <td>0.0</td>\n",
              "      <td>0.0</td>\n",
              "      <td>0.0</td>\n",
              "      <td>0.0</td>\n",
              "      <td>1.0</td>\n",
              "      <td>1.0</td>\n",
              "      <td>0.0</td>\n",
              "      <td>0.0</td>\n",
              "      <td>1.0</td>\n",
              "      <td>NaN</td>\n",
              "      <td>NaN</td>\n",
              "      <td>NaN</td>\n",
              "      <td>NaN</td>\n",
              "      <td>NaN</td>\n",
              "      <td>NaN</td>\n",
              "      <td>NaN</td>\n",
              "      <td>NaN</td>\n",
              "      <td>NaN</td>\n",
              "      <td>NaN</td>\n",
              "      <td>NaN</td>\n",
              "      <td>NaN</td>\n",
              "      <td>NaN</td>\n",
              "      <td>NaN</td>\n",
              "      <td>NaN</td>\n",
              "      <td>NaN</td>\n",
              "      <td>NaN</td>\n",
              "      <td>NaN</td>\n",
              "      <td>NaN</td>\n",
              "      <td>NaN</td>\n",
              "      <td>NaN</td>\n",
              "      <td>NaN</td>\n",
              "      <td>NaN</td>\n",
              "      <td>NaN</td>\n",
              "      <td>NaN</td>\n",
              "      <td>NaN</td>\n",
              "      <td>NaN</td>\n",
              "      <td>NaN</td>\n",
              "      <td>NaN</td>\n",
              "      <td>NaN</td>\n",
              "      <td>NaN</td>\n",
              "      <td>NaN</td>\n",
              "      <td>NaN</td>\n",
              "      <td>NaN</td>\n",
              "      <td>NaN</td>\n",
              "      <td>NaN</td>\n",
              "      <td>0.736842</td>\n",
              "      <td>0.736842</td>\n",
              "      <td>NaN</td>\n",
              "      <td>NaN</td>\n",
              "      <td>NaN</td>\n",
              "      <td>NaN</td>\n",
              "      <td>0.318681</td>\n",
              "      <td>NaN</td>\n",
              "      <td>NaN</td>\n",
              "      <td>NaN</td>\n",
              "      <td>NaN</td>\n",
              "      <td>-0.275362</td>\n",
              "      <td>0.736842</td>\n",
              "      <td>6-12</td>\n",
              "      <td>0</td>\n",
              "    </tr>\n",
              "    <tr>\n",
              "      <th>4</th>\n",
              "      <td>0</td>\n",
              "      <td>1</td>\n",
              "      <td>60th</td>\n",
              "      <td>0</td>\n",
              "      <td>0.0</td>\n",
              "      <td>0.0</td>\n",
              "      <td>0.0</td>\n",
              "      <td>0.0</td>\n",
              "      <td>1.0</td>\n",
              "      <td>1.0</td>\n",
              "      <td>0.0</td>\n",
              "      <td>0.0</td>\n",
              "      <td>1.0</td>\n",
              "      <td>-1.0</td>\n",
              "      <td>-1.0</td>\n",
              "      <td>-1.0</td>\n",
              "      <td>-1.0</td>\n",
              "      <td>-1.0</td>\n",
              "      <td>-1.0</td>\n",
              "      <td>-1.0</td>\n",
              "      <td>-1.0</td>\n",
              "      <td>-1.0</td>\n",
              "      <td>-1.0</td>\n",
              "      <td>-1.0</td>\n",
              "      <td>-1.0</td>\n",
              "      <td>-1.0</td>\n",
              "      <td>-1.0</td>\n",
              "      <td>-1.0</td>\n",
              "      <td>-1.0</td>\n",
              "      <td>-1.0</td>\n",
              "      <td>-1.0</td>\n",
              "      <td>-1.0</td>\n",
              "      <td>-1.0</td>\n",
              "      <td>-1.0</td>\n",
              "      <td>-1.0</td>\n",
              "      <td>-1.0</td>\n",
              "      <td>-1.0</td>\n",
              "      <td>-1.0</td>\n",
              "      <td>-1.0</td>\n",
              "      <td>-1.0</td>\n",
              "      <td>-1.0</td>\n",
              "      <td>-1.0</td>\n",
              "      <td>-1.0</td>\n",
              "      <td>-1.0</td>\n",
              "      <td>-1.0</td>\n",
              "      <td>-1.0</td>\n",
              "      <td>-1.0</td>\n",
              "      <td>-1.0</td>\n",
              "      <td>-1.0</td>\n",
              "      <td>0.665932</td>\n",
              "      <td>0.631579</td>\n",
              "      <td>-0.340206</td>\n",
              "      <td>-0.4875</td>\n",
              "      <td>-0.572650</td>\n",
              "      <td>-0.857143</td>\n",
              "      <td>0.098901</td>\n",
              "      <td>-0.076923</td>\n",
              "      <td>0.286486</td>\n",
              "      <td>0.298507</td>\n",
              "      <td>0.272727</td>\n",
              "      <td>0.362319</td>\n",
              "      <td>0.947368</td>\n",
              "      <td>ABOVE_12</td>\n",
              "      <td>1</td>\n",
              "    </tr>\n",
              "  </tbody>\n",
              "</table>\n",
              "</div>"
            ],
            "text/plain": [
              "   PATIENT_VISIT_IDENTIFIER  AGE_ABOVE65  ...    WINDOW  ICU\n",
              "0                         0            1  ...       0-2    0\n",
              "1                         0            1  ...       2-4    0\n",
              "2                         0            1  ...       4-6    0\n",
              "3                         0            1  ...      6-12    0\n",
              "4                         0            1  ...  ABOVE_12    1\n",
              "\n",
              "[5 rows x 64 columns]"
            ]
          },
          "metadata": {
            "tags": []
          },
          "execution_count": 135
        }
      ]
    },
    {
      "cell_type": "markdown",
      "metadata": {
        "id": "2mDHHrFAffL_"
      },
      "source": [
        "Agora temos as seguites informações no dataframe:"
      ]
    },
    {
      "cell_type": "code",
      "metadata": {
        "colab": {
          "base_uri": "https://localhost:8080/"
        },
        "id": "x7GEBbeoflAY",
        "outputId": "9ff3986f-cc15-4b5f-b355-f6be51f55478"
      },
      "source": [
        "resume_dataframe(dados_sem_correlacao)"
      ],
      "execution_count": 145,
      "outputs": [
        {
          "output_type": "stream",
          "text": [
            "################ RESUMO BÁSICO ####################\n",
            "\n",
            "Quantidade de instâncias: 1925 (linhas)\n",
            "Quantidade de Atributos: 64 (colunas)\n",
            "\n",
            "Possui dados NaN ? True\n",
            "Quantidade de NaN totais: 48841\n",
            "\n",
            "Tipos de  dados que temos :\n",
            "[dtype('float64'), dtype('int64'), dtype('O')]\n",
            "\n",
            "##################################################\n",
            "\n"
          ],
          "name": "stdout"
        }
      ]
    },
    {
      "cell_type": "markdown",
      "metadata": {
        "id": "1SJcxGA-gPDN"
      },
      "source": [
        "Visualizando por um dendograma, temos agora o seguinte agrupamento."
      ]
    },
    {
      "cell_type": "code",
      "metadata": {
        "colab": {
          "base_uri": "https://localhost:8080/",
          "height": 632
        },
        "id": "NVsxWoh8g-wk",
        "outputId": "33077b21-55cf-48b3-848d-6d311b11bde2"
      },
      "source": [
        "grafico_dendograma_sang_resp = msno.dendrogram(dados_sem_correlacao,figsize=(21,5),orientation='top')\r\n",
        "plt.ylabel(\"Escala de Similaridade\",size=18,color='r',weight='bold')\r\n",
        "plt.xlabel(\"Colunas\",size=18,color='r',weight='bold')\r\n",
        "\r\n",
        "plt.xticks(rotation= 90)\r\n",
        "plt.title(\"FIGURA 7 - Dendograma do Conjunto de Dados sem Colunas Correlacionadas\",size=18)\r\n",
        "grafico_dendograma_sang_resp.get_figure();"
      ],
      "execution_count": 152,
      "outputs": [
        {
          "output_type": "display_data",
          "data": {
            "image/png": "[encoded data removed]",
            "text/plain": [
              "<Figure size 1512x360 with 1 Axes>"
            ]
          },
          "metadata": {
            "tags": [],
            "needs_background": "light"
          }
        }
      ]
    },
    {
      "cell_type": "code",
      "metadata": {
        "colab": {
          "base_uri": "https://localhost:8080/"
        },
        "id": "OfFCMPoFlg_F",
        "outputId": "9a29959b-cb71-4972-8c49-60226918256c"
      },
      "source": [
        "for i in list(dados.columns):\r\n",
        "  print(i)"
      ],
      "execution_count": 31,
      "outputs": [
        {
          "output_type": "stream",
          "text": [
            "PATIENT_VISIT_IDENTIFIER\n",
            "AGE_ABOVE65\n",
            "AGE_PERCENTIL\n",
            "GENDER\n",
            "DISEASE GROUPING 1\n",
            "DISEASE GROUPING 2\n",
            "DISEASE GROUPING 3\n",
            "DISEASE GROUPING 4\n",
            "DISEASE GROUPING 5\n",
            "DISEASE GROUPING 6\n",
            "HTN\n",
            "IMMUNOCOMPROMISED\n",
            "OTHER\n",
            "ALBUMIN_MEDIAN\n",
            "ALBUMIN_MEAN\n",
            "ALBUMIN_MIN\n",
            "ALBUMIN_MAX\n",
            "ALBUMIN_DIFF\n",
            "BE_ARTERIAL_MEDIAN\n",
            "BE_ARTERIAL_MEAN\n",
            "BE_ARTERIAL_MIN\n",
            "BE_ARTERIAL_MAX\n",
            "BE_ARTERIAL_DIFF\n",
            "BE_VENOUS_MEDIAN\n",
            "BE_VENOUS_MEAN\n",
            "BE_VENOUS_MIN\n",
            "BE_VENOUS_MAX\n",
            "BE_VENOUS_DIFF\n",
            "BIC_ARTERIAL_MEDIAN\n",
            "BIC_ARTERIAL_MEAN\n",
            "BIC_ARTERIAL_MIN\n",
            "BIC_ARTERIAL_MAX\n",
            "BIC_ARTERIAL_DIFF\n",
            "BIC_VENOUS_MEDIAN\n",
            "BIC_VENOUS_MEAN\n",
            "BIC_VENOUS_MIN\n",
            "BIC_VENOUS_MAX\n",
            "BIC_VENOUS_DIFF\n",
            "BILLIRUBIN_MEDIAN\n",
            "BILLIRUBIN_MEAN\n",
            "BILLIRUBIN_MIN\n",
            "BILLIRUBIN_MAX\n",
            "BILLIRUBIN_DIFF\n",
            "BLAST_MEDIAN\n",
            "BLAST_MEAN\n",
            "BLAST_MIN\n",
            "BLAST_MAX\n",
            "BLAST_DIFF\n",
            "CALCIUM_MEDIAN\n",
            "CALCIUM_MEAN\n",
            "CALCIUM_MIN\n",
            "CALCIUM_MAX\n",
            "CALCIUM_DIFF\n",
            "CREATININ_MEDIAN\n",
            "CREATININ_MEAN\n",
            "CREATININ_MIN\n",
            "CREATININ_MAX\n",
            "CREATININ_DIFF\n",
            "FFA_MEDIAN\n",
            "FFA_MEAN\n",
            "FFA_MIN\n",
            "FFA_MAX\n",
            "FFA_DIFF\n",
            "GGT_MEDIAN\n",
            "GGT_MEAN\n",
            "GGT_MIN\n",
            "GGT_MAX\n",
            "GGT_DIFF\n",
            "GLUCOSE_MEDIAN\n",
            "GLUCOSE_MEAN\n",
            "GLUCOSE_MIN\n",
            "GLUCOSE_MAX\n",
            "GLUCOSE_DIFF\n",
            "HEMATOCRITE_MEDIAN\n",
            "HEMATOCRITE_MEAN\n",
            "HEMATOCRITE_MIN\n",
            "HEMATOCRITE_MAX\n",
            "HEMATOCRITE_DIFF\n",
            "HEMOGLOBIN_MEDIAN\n",
            "HEMOGLOBIN_MEAN\n",
            "HEMOGLOBIN_MIN\n",
            "HEMOGLOBIN_MAX\n",
            "HEMOGLOBIN_DIFF\n",
            "INR_MEDIAN\n",
            "INR_MEAN\n",
            "INR_MIN\n",
            "INR_MAX\n",
            "INR_DIFF\n",
            "LACTATE_MEDIAN\n",
            "LACTATE_MEAN\n",
            "LACTATE_MIN\n",
            "LACTATE_MAX\n",
            "LACTATE_DIFF\n",
            "LEUKOCYTES_MEDIAN\n",
            "LEUKOCYTES_MEAN\n",
            "LEUKOCYTES_MIN\n",
            "LEUKOCYTES_MAX\n",
            "LEUKOCYTES_DIFF\n",
            "LINFOCITOS_MEDIAN\n",
            "LINFOCITOS_MEAN\n",
            "LINFOCITOS_MIN\n",
            "LINFOCITOS_MAX\n",
            "LINFOCITOS_DIFF\n",
            "NEUTROPHILES_MEDIAN\n",
            "NEUTROPHILES_MEAN\n",
            "NEUTROPHILES_MIN\n",
            "NEUTROPHILES_MAX\n",
            "NEUTROPHILES_DIFF\n",
            "P02_ARTERIAL_MEDIAN\n",
            "P02_ARTERIAL_MEAN\n",
            "P02_ARTERIAL_MIN\n",
            "P02_ARTERIAL_MAX\n",
            "P02_ARTERIAL_DIFF\n",
            "P02_VENOUS_MEDIAN\n",
            "P02_VENOUS_MEAN\n",
            "P02_VENOUS_MIN\n",
            "P02_VENOUS_MAX\n",
            "P02_VENOUS_DIFF\n",
            "PC02_ARTERIAL_MEDIAN\n",
            "PC02_ARTERIAL_MEAN\n",
            "PC02_ARTERIAL_MIN\n",
            "PC02_ARTERIAL_MAX\n",
            "PC02_ARTERIAL_DIFF\n",
            "PC02_VENOUS_MEDIAN\n",
            "PC02_VENOUS_MEAN\n",
            "PC02_VENOUS_MIN\n",
            "PC02_VENOUS_MAX\n",
            "PC02_VENOUS_DIFF\n",
            "PCR_MEDIAN\n",
            "PCR_MEAN\n",
            "PCR_MIN\n",
            "PCR_MAX\n",
            "PCR_DIFF\n",
            "PH_ARTERIAL_MEDIAN\n",
            "PH_ARTERIAL_MEAN\n",
            "PH_ARTERIAL_MIN\n",
            "PH_ARTERIAL_MAX\n",
            "PH_ARTERIAL_DIFF\n",
            "PH_VENOUS_MEDIAN\n",
            "PH_VENOUS_MEAN\n",
            "PH_VENOUS_MIN\n",
            "PH_VENOUS_MAX\n",
            "PH_VENOUS_DIFF\n",
            "PLATELETS_MEDIAN\n",
            "PLATELETS_MEAN\n",
            "PLATELETS_MIN\n",
            "PLATELETS_MAX\n",
            "PLATELETS_DIFF\n",
            "POTASSIUM_MEDIAN\n",
            "POTASSIUM_MEAN\n",
            "POTASSIUM_MIN\n",
            "POTASSIUM_MAX\n",
            "POTASSIUM_DIFF\n",
            "SAT02_ARTERIAL_MEDIAN\n",
            "SAT02_ARTERIAL_MEAN\n",
            "SAT02_ARTERIAL_MIN\n",
            "SAT02_ARTERIAL_MAX\n",
            "SAT02_ARTERIAL_DIFF\n",
            "SAT02_VENOUS_MEDIAN\n",
            "SAT02_VENOUS_MEAN\n",
            "SAT02_VENOUS_MIN\n",
            "SAT02_VENOUS_MAX\n",
            "SAT02_VENOUS_DIFF\n",
            "SODIUM_MEDIAN\n",
            "SODIUM_MEAN\n",
            "SODIUM_MIN\n",
            "SODIUM_MAX\n",
            "SODIUM_DIFF\n",
            "TGO_MEDIAN\n",
            "TGO_MEAN\n",
            "TGO_MIN\n",
            "TGO_MAX\n",
            "TGO_DIFF\n",
            "TGP_MEDIAN\n",
            "TGP_MEAN\n",
            "TGP_MIN\n",
            "TGP_MAX\n",
            "TGP_DIFF\n",
            "TTPA_MEDIAN\n",
            "TTPA_MEAN\n",
            "TTPA_MIN\n",
            "TTPA_MAX\n",
            "TTPA_DIFF\n",
            "UREA_MEDIAN\n",
            "UREA_MEAN\n",
            "UREA_MIN\n",
            "UREA_MAX\n",
            "UREA_DIFF\n",
            "DIMER_MEDIAN\n",
            "DIMER_MEAN\n",
            "DIMER_MIN\n",
            "DIMER_MAX\n",
            "DIMER_DIFF\n",
            "BLOODPRESSURE_DIASTOLIC_MEAN\n",
            "BLOODPRESSURE_SISTOLIC_MEAN\n",
            "HEART_RATE_MEAN\n",
            "RESPIRATORY_RATE_MEAN\n",
            "TEMPERATURE_MEAN\n",
            "OXYGEN_SATURATION_MEAN\n",
            "BLOODPRESSURE_DIASTOLIC_MEDIAN\n",
            "BLOODPRESSURE_SISTOLIC_MEDIAN\n",
            "HEART_RATE_MEDIAN\n",
            "RESPIRATORY_RATE_MEDIAN\n",
            "TEMPERATURE_MEDIAN\n",
            "OXYGEN_SATURATION_MEDIAN\n",
            "BLOODPRESSURE_DIASTOLIC_MIN\n",
            "BLOODPRESSURE_SISTOLIC_MIN\n",
            "HEART_RATE_MIN\n",
            "RESPIRATORY_RATE_MIN\n",
            "TEMPERATURE_MIN\n",
            "OXYGEN_SATURATION_MIN\n",
            "BLOODPRESSURE_DIASTOLIC_MAX\n",
            "BLOODPRESSURE_SISTOLIC_MAX\n",
            "HEART_RATE_MAX\n",
            "RESPIRATORY_RATE_MAX\n",
            "TEMPERATURE_MAX\n",
            "OXYGEN_SATURATION_MAX\n",
            "BLOODPRESSURE_DIASTOLIC_DIFF\n",
            "BLOODPRESSURE_SISTOLIC_DIFF\n",
            "HEART_RATE_DIFF\n",
            "RESPIRATORY_RATE_DIFF\n",
            "TEMPERATURE_DIFF\n",
            "OXYGEN_SATURATION_DIFF\n",
            "BLOODPRESSURE_DIASTOLIC_DIFF_REL\n",
            "BLOODPRESSURE_SISTOLIC_DIFF_REL\n",
            "HEART_RATE_DIFF_REL\n",
            "RESPIRATORY_RATE_DIFF_REL\n",
            "TEMPERATURE_DIFF_REL\n",
            "OXYGEN_SATURATION_DIFF_REL\n",
            "WINDOW\n",
            "ICU\n"
          ],
          "name": "stdout"
        }
      ]
    },
    {
      "cell_type": "code",
      "metadata": {
        "id": "JsmPw7D1oBRE"
      },
      "source": [
        ""
      ],
      "execution_count": 31,
      "outputs": []
    }
  ]
}